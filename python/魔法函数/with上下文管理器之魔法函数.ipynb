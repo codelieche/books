{
 "cells": [
  {
   "cell_type": "markdown",
   "metadata": {},
   "source": [
    "## with上下文管理器之魔法函数\n",
    "> 上下文管理器，实际上是实现了`___enter__`和`__exit__`这两个魔法函数。  \n",
    "  以打开文件的函数为示例, `__enter__`的时候打开文件，`__exit__`的时候关闭文件。"
   ]
  },
  {
   "cell_type": "markdown",
   "metadata": {},
   "source": [
    "### 1. 打开文件"
   ]
  },
  {
   "cell_type": "code",
   "execution_count": 1,
   "metadata": {},
   "outputs": [],
   "source": [
    "filename = \"test.txt\"\n",
    "file = open(filename, \"w+\")\n",
    "file.write(\"## test.txt\\n> This Is Test Content!  \\nThis is Test 2!\")\n",
    "file.close()"
   ]
  },
  {
   "cell_type": "code",
   "execution_count": 2,
   "metadata": {},
   "outputs": [
    {
     "name": "stdout",
     "output_type": "stream",
     "text": [
      "## test.txt\r\n",
      "> This Is Test Content!  \r\n",
      "This is Test 2!"
     ]
    }
   ],
   "source": [
    "# 查看文件的内容\n",
    "!cat test.txt"
   ]
  },
  {
   "cell_type": "code",
   "execution_count": 3,
   "metadata": {},
   "outputs": [],
   "source": [
    "# 删除文件\n",
    "!rm test.txt"
   ]
  },
  {
   "cell_type": "markdown",
   "metadata": {},
   "source": [
    "### 2. 采用with"
   ]
  },
  {
   "cell_type": "code",
   "execution_count": 4,
   "metadata": {},
   "outputs": [],
   "source": [
    "filename = \"test.txt\"\n",
    "with open(filename, \"w\") as f:\n",
    "    f.write(\"## test.txt\\n> This is test.txt!\")"
   ]
  },
  {
   "cell_type": "code",
   "execution_count": 5,
   "metadata": {},
   "outputs": [
    {
     "name": "stdout",
     "output_type": "stream",
     "text": [
      "## test.txt\r\n",
      "> This is test.txt!"
     ]
    }
   ],
   "source": [
    "# 查看文件的内容\n",
    "!cat test.txt"
   ]
  },
  {
   "cell_type": "code",
   "execution_count": 6,
   "metadata": {},
   "outputs": [],
   "source": [
    "# 删除文件\n",
    "!rm test.txt"
   ]
  },
  {
   "cell_type": "markdown",
   "metadata": {},
   "source": [
    "### 3. with上下文管理器"
   ]
  },
  {
   "cell_type": "code",
   "execution_count": 7,
   "metadata": {},
   "outputs": [],
   "source": [
    "class OpenFile:\n",
    "    \n",
    "    def __init__(self, filename):\n",
    "        if not filename:\n",
    "            filename = \"test.txt\"\n",
    "        self.filename = filename\n",
    "        \n",
    "    def open(self):\n",
    "        self.file = open(self.filename, \"w\")\n",
    "        \n",
    "    def __enter__(self):\n",
    "        print(\"进入__enter__函数\")\n",
    "        self.file = open(self.filename, \"w\")\n",
    "        return self\n",
    "        \n",
    "    def write(self, content):\n",
    "        # 防止报错\n",
    "        if self.file == None:\n",
    "            self.open()\n",
    "        self.file.write(content)\n",
    "        \n",
    "    def close(self):\n",
    "        if self.file:\n",
    "            self.file.close()\n",
    "        \n",
    "    def __exit__(self, exc_type, exc_val, exc_tb):\n",
    "        print(\"进入__exit__函数\")\n",
    "        self.file.close()"
   ]
  },
  {
   "cell_type": "markdown",
   "metadata": {},
   "source": [
    "#### 3-1：不使用with写入文件"
   ]
  },
  {
   "cell_type": "code",
   "execution_count": 8,
   "metadata": {},
   "outputs": [],
   "source": [
    "filename = \"test.txt\"\n",
    "f = OpenFile(filename)\n",
    "f.open()\n",
    "f.write(\"## test.txt\\n  > 这个是OpenFile写入的内容\")\n",
    "f.close()"
   ]
  },
  {
   "cell_type": "code",
   "execution_count": 9,
   "metadata": {},
   "outputs": [
    {
     "name": "stdout",
     "output_type": "stream",
     "text": [
      "## test.txt\r\n",
      "  > 这个是OpenFile写入的内容"
     ]
    }
   ],
   "source": [
    "# 查看文件内容\n",
    "!cat test.txt"
   ]
  },
  {
   "cell_type": "markdown",
   "metadata": {},
   "source": [
    "#### 3-2: 使用with语句写入文件"
   ]
  },
  {
   "cell_type": "code",
   "execution_count": 10,
   "metadata": {},
   "outputs": [
    {
     "name": "stdout",
     "output_type": "stream",
     "text": [
      "进入__enter__函数\n",
      "进入__exit__函数\n"
     ]
    }
   ],
   "source": [
    "filename = \"test.txt\"\n",
    "with OpenFile(filename) as f:\n",
    "    f.write(\"## test.txt\\n  > 这个是OpenFile写入的内容，本次采用with语句\")"
   ]
  },
  {
   "cell_type": "code",
   "execution_count": 11,
   "metadata": {},
   "outputs": [
    {
     "name": "stdout",
     "output_type": "stream",
     "text": [
      "## test.txt\r\n",
      "  > 这个是OpenFile写入的内容，本次采用with语句"
     ]
    }
   ],
   "source": [
    "# 查看文件内容\n",
    "!cat test.txt"
   ]
  },
  {
   "cell_type": "code",
   "execution_count": 12,
   "metadata": {},
   "outputs": [],
   "source": [
    "# 删掉文件\n",
    "!rm test.txt"
   ]
  },
  {
   "cell_type": "code",
   "execution_count": null,
   "metadata": {},
   "outputs": [],
   "source": []
  }
 ],
 "metadata": {
  "kernelspec": {
   "display_name": "Python 3",
   "language": "python",
   "name": "python3"
  },
  "language_info": {
   "codemirror_mode": {
    "name": "ipython",
    "version": 3
   },
   "file_extension": ".py",
   "mimetype": "text/x-python",
   "name": "python",
   "nbconvert_exporter": "python",
   "pygments_lexer": "ipython3",
   "version": "3.7.6"
  }
 },
 "nbformat": 4,
 "nbformat_minor": 2
}
