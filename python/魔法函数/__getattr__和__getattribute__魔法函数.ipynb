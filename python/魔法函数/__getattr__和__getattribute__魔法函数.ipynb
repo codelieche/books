{
 "cells": [
  {
   "cell_type": "markdown",
   "metadata": {},
   "source": [
    "## `__getattr__`和`__getattribute__`魔法函数\n",
    "- 访问属性，都会进入`__getattribute__`方法\n",
    "- 当需要访问的属性，不存在，才会去`__getattr__`中查找\n",
    "- 尽量不要重写`__getattribute__`"
   ]
  },
  {
   "cell_type": "markdown",
   "metadata": {},
   "source": [
    "### 1. `__getattr__`\n",
    "> 当对象的属性没找到的时候，就会进入`__getattr__`"
   ]
  },
  {
   "cell_type": "code",
   "execution_count": 1,
   "metadata": {},
   "outputs": [],
   "source": [
    "class People:\n",
    "        \n",
    "    def __init__(self, name, age, info={}):\n",
    "        self.name = name\n",
    "        self.age = age\n",
    "        self.info = info\n",
    "        \n",
    "    def __getattr__(self, item):\n",
    "        print(\"从People.__getattr__中寻找属性：\", item)\n",
    "        if item in self.info:\n",
    "            return self.info[item]\n",
    "        else:\n",
    "            msg = \"People object 没有{}属性\".format(item)\n",
    "            # 返回None或者抛出异常：\n",
    "            raise AttributeError(msg)\n",
    "            # return None"
   ]
  },
  {
   "cell_type": "code",
   "execution_count": 2,
   "metadata": {},
   "outputs": [],
   "source": [
    "# 实例化对象\n",
    "info = {\n",
    "    \"desc\": \"编程列车\",\n",
    "    \"domain\": \"www.codelieche.com\",\n",
    "    \"github\": \"github.com/codelieche\"\n",
    "}\n",
    "\n",
    "p = People(\"codelieche\", 18, info)"
   ]
  },
  {
   "cell_type": "code",
   "execution_count": 3,
   "metadata": {},
   "outputs": [
    {
     "name": "stdout",
     "output_type": "stream",
     "text": [
      "codelieche 18\n"
     ]
    }
   ],
   "source": [
    "print(p.name, p.age)"
   ]
  },
  {
   "cell_type": "code",
   "execution_count": 4,
   "metadata": {},
   "outputs": [
    {
     "name": "stdout",
     "output_type": "stream",
     "text": [
      "{'desc': '编程列车', 'domain': 'www.codelieche.com', 'github': 'github.com/codelieche'}\n"
     ]
    }
   ],
   "source": [
    "print(p.info)"
   ]
  },
  {
   "cell_type": "code",
   "execution_count": 5,
   "metadata": {},
   "outputs": [
    {
     "name": "stdout",
     "output_type": "stream",
     "text": [
      "从People.__getattr__中寻找属性： desc\n"
     ]
    },
    {
     "data": {
      "text/plain": [
       "'编程列车'"
      ]
     },
     "execution_count": 5,
     "metadata": {},
     "output_type": "execute_result"
    }
   ],
   "source": [
    "p.desc"
   ]
  },
  {
   "cell_type": "code",
   "execution_count": 6,
   "metadata": {},
   "outputs": [
    {
     "name": "stdout",
     "output_type": "stream",
     "text": [
      "从People.__getattr__中寻找属性： xxx\n",
      "AttribueError: People object 没有xxx属性\n"
     ]
    }
   ],
   "source": [
    "try:\n",
    "    p.xxx\n",
    "except AttributeError as e:\n",
    "    print(\"AttribueError:\", e)\n",
    "else:\n",
    "    print(\"其它错误：\", e)"
   ]
  },
  {
   "cell_type": "markdown",
   "metadata": {},
   "source": [
    "### 2. `__getattribute__`\n",
    "> 查找任何属性，都会先进入`__getattribute__`"
   ]
  },
  {
   "cell_type": "code",
   "execution_count": 7,
   "metadata": {},
   "outputs": [],
   "source": [
    "# 接下来我们对上面的People继续改造一下\n",
    "\n",
    "class People2:\n",
    "        \n",
    "    def __init__(self, name, age, info={}):\n",
    "        self.name = name\n",
    "        self.age = age\n",
    "        self.info = info\n",
    "        \n",
    "    def __getattr__(self, item):\n",
    "        print(\"从People2.__getattr__中寻找属性：\", item)\n",
    "        if item in self.info:\n",
    "            return self.info[item]\n",
    "        else:\n",
    "            msg = \"People object 没有{}属性\".format(item)\n",
    "            # 返回None或者抛出异常：\n",
    "            raise AttributeError(msg)\n",
    "            # return None\n",
    "            \n",
    "    def __getattribute__(self, item):\n",
    "        print(\"进入People2.__getattribute__方法，\", item)\n",
    "        return super().__getattribute__(item)"
   ]
  },
  {
   "cell_type": "code",
   "execution_count": 8,
   "metadata": {},
   "outputs": [],
   "source": [
    "p2 = People2(\"codelieche\", 19, info)"
   ]
  },
  {
   "cell_type": "code",
   "execution_count": 9,
   "metadata": {},
   "outputs": [
    {
     "name": "stdout",
     "output_type": "stream",
     "text": [
      "进入People2.__getattribute__方法， age\n"
     ]
    },
    {
     "data": {
      "text/plain": [
       "19"
      ]
     },
     "execution_count": 9,
     "metadata": {},
     "output_type": "execute_result"
    }
   ],
   "source": [
    "p2.age"
   ]
  },
  {
   "cell_type": "code",
   "execution_count": 10,
   "metadata": {},
   "outputs": [
    {
     "name": "stdout",
     "output_type": "stream",
     "text": [
      "进入People2.__getattribute__方法， desc\n",
      "从People2.__getattr__中寻找属性： desc\n",
      "进入People2.__getattribute__方法， info\n",
      "进入People2.__getattribute__方法， info\n"
     ]
    },
    {
     "data": {
      "text/plain": [
       "'编程列车'"
      ]
     },
     "execution_count": 10,
     "metadata": {},
     "output_type": "execute_result"
    }
   ],
   "source": [
    "p2.desc"
   ]
  },
  {
   "cell_type": "code",
   "execution_count": 11,
   "metadata": {},
   "outputs": [
    {
     "name": "stdout",
     "output_type": "stream",
     "text": [
      "进入People2.__getattribute__方法， xxx\n",
      "从People2.__getattr__中寻找属性： xxx\n",
      "进入People2.__getattribute__方法， info\n"
     ]
    },
    {
     "ename": "AttributeError",
     "evalue": "People object 没有xxx属性",
     "output_type": "error",
     "traceback": [
      "\u001b[0;31m---------------------------------------------------------------------------\u001b[0m",
      "\u001b[0;31mAttributeError\u001b[0m                            Traceback (most recent call last)",
      "\u001b[0;32m<ipython-input-11-30f5e98cbf27>\u001b[0m in \u001b[0;36m<module>\u001b[0;34m()\u001b[0m\n\u001b[0;32m----> 1\u001b[0;31m \u001b[0mp2\u001b[0m\u001b[0;34m.\u001b[0m\u001b[0mxxx\u001b[0m\u001b[0;34m\u001b[0m\u001b[0;34m\u001b[0m\u001b[0m\n\u001b[0m",
      "\u001b[0;32m<ipython-input-7-609f96b17dc3>\u001b[0m in \u001b[0;36m__getattr__\u001b[0;34m(self, item)\u001b[0m\n\u001b[1;32m     15\u001b[0m             \u001b[0mmsg\u001b[0m \u001b[0;34m=\u001b[0m \u001b[0;34m\"People object 没有{}属性\"\u001b[0m\u001b[0;34m.\u001b[0m\u001b[0mformat\u001b[0m\u001b[0;34m(\u001b[0m\u001b[0mitem\u001b[0m\u001b[0;34m)\u001b[0m\u001b[0;34m\u001b[0m\u001b[0;34m\u001b[0m\u001b[0m\n\u001b[1;32m     16\u001b[0m             \u001b[0;31m# 返回None或者抛出异常：\u001b[0m\u001b[0;34m\u001b[0m\u001b[0;34m\u001b[0m\u001b[0;34m\u001b[0m\u001b[0m\n\u001b[0;32m---> 17\u001b[0;31m             \u001b[0;32mraise\u001b[0m \u001b[0mAttributeError\u001b[0m\u001b[0;34m(\u001b[0m\u001b[0mmsg\u001b[0m\u001b[0;34m)\u001b[0m\u001b[0;34m\u001b[0m\u001b[0;34m\u001b[0m\u001b[0m\n\u001b[0m\u001b[1;32m     18\u001b[0m             \u001b[0;31m# return None\u001b[0m\u001b[0;34m\u001b[0m\u001b[0;34m\u001b[0m\u001b[0;34m\u001b[0m\u001b[0m\n\u001b[1;32m     19\u001b[0m \u001b[0;34m\u001b[0m\u001b[0m\n",
      "\u001b[0;31mAttributeError\u001b[0m: People object 没有xxx属性"
     ]
    }
   ],
   "source": [
    "p2.xxx"
   ]
  },
  {
   "cell_type": "markdown",
   "metadata": {},
   "source": [
    "### 3. 总结\n",
    "> 通过上面的实验发现：\n",
    "- 访问对象的属性，都会先进入`__getattribute__`方法\n",
    "- 当访问不到属性的时候，就会再进入`__getattr__`方法\n",
    "- 我们自己尽量不要重写`__getattribute__`方法"
   ]
  },
  {
   "cell_type": "code",
   "execution_count": null,
   "metadata": {},
   "outputs": [],
   "source": []
  }
 ],
 "metadata": {
  "kernelspec": {
   "display_name": "Python 3",
   "language": "python",
   "name": "python3"
  },
  "language_info": {
   "codemirror_mode": {
    "name": "ipython",
    "version": 3
   },
   "file_extension": ".py",
   "mimetype": "text/x-python",
   "name": "python",
   "nbconvert_exporter": "python",
   "pygments_lexer": "ipython3",
   "version": "3.7.6"
  }
 },
 "nbformat": 4,
 "nbformat_minor": 2
}
