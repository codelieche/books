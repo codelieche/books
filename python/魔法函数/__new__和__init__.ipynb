{
 "cells": [
  {
   "cell_type": "markdown",
   "metadata": {},
   "source": [
    "## `__new__`和`__init__`\n",
    "- 新式类才有`__new__`，Python3都是继承了object的\n",
    "- `__new__`是用来控制对象的生成过程，在对象生成前执行\n",
    "- `__init__`则是在`__new__`的基础上完善对象\n",
    "- `__new__`在`__init__`之前调用\n",
    "- 参数：`__new__`至少有一个参数`cls`，cls是当前类，此参数在实例化时，python解释器自动识别\n",
    "- 返回值：`__new__`是必须有返回值的，且这个返回值是`__init__`的第一个参数`self`;`__init__`不需要返回值\n",
    "- `__new__`不返回对象，则`__init__`不会执行；如果返回其它类了`__init__`也不执行"
   ]
  },
  {
   "cell_type": "markdown",
   "metadata": {},
   "source": [
    "### 1. 查看调用顺序"
   ]
  },
  {
   "cell_type": "code",
   "execution_count": 1,
   "metadata": {},
   "outputs": [],
   "source": [
    "class Demo1:\n",
    "    \n",
    "    def __new__(cls, *args, **kwargs):\n",
    "        print(\"Demo1执行: __new__\",cls, *args, **kwargs)\n",
    "        result = super().__new__(cls)\n",
    "        print(\"Demo1:__new__的返回值id：\", id(result))\n",
    "        return result\n",
    "    \n",
    "    def __init__(self):\n",
    "        print(\"Demo1执行: __init__\")\n",
    "        print(\"Demo1:self的id是：\", id(self))"
   ]
  },
  {
   "cell_type": "code",
   "execution_count": 2,
   "metadata": {},
   "outputs": [
    {
     "name": "stdout",
     "output_type": "stream",
     "text": [
      "Demo1执行: __new__ <class '__main__.Demo1'>\n",
      "Demo1:__new__的返回值id： 4354970640\n",
      "Demo1执行: __init__\n",
      "Demo1:self的id是： 4354970640\n"
     ]
    }
   ],
   "source": [
    "# 实例化\n",
    "d1 = Demo1()"
   ]
  },
  {
   "cell_type": "markdown",
   "metadata": {},
   "source": [
    "> **发现：**  \n",
    "1. `__new__`在`__init__`之前调用\n",
    "2. 通过id：可发现`__init__`的`self`，是`__new__`的返回值"
   ]
  },
  {
   "cell_type": "markdown",
   "metadata": {},
   "source": [
    "### 2. `__new__`的作用\n",
    "> 当自定义的类，继承一些不可变的`class`时(eg: `int`, `str`, `tuple`)的时候，  \n",
    "`__new__`提供给我们一个自定义这些类的实例化过程的途径。  \n",
    "**示例：**这里我们实现一个总正数的int子类"
   ]
  },
  {
   "cell_type": "code",
   "execution_count": 3,
   "metadata": {},
   "outputs": [],
   "source": [
    "class MyInt(int):\n",
    "    \n",
    "    def __new__(cls, value):\n",
    "        print(\"__new__:\", value)\n",
    "        return super().__new__(cls, abs(value))"
   ]
  },
  {
   "cell_type": "code",
   "execution_count": 4,
   "metadata": {},
   "outputs": [
    {
     "name": "stdout",
     "output_type": "stream",
     "text": [
      "__new__: -100\n",
      "__new__: 200\n",
      "__new__: -300\n"
     ]
    }
   ],
   "source": [
    "# 实例化\n",
    "i1 = MyInt(-100)\n",
    "i2 = MyInt(200)\n",
    "i3 = MyInt(-300)"
   ]
  },
  {
   "cell_type": "code",
   "execution_count": 5,
   "metadata": {},
   "outputs": [
    {
     "name": "stdout",
     "output_type": "stream",
     "text": [
      "100 200 300\n"
     ]
    }
   ],
   "source": [
    "print(i1, i2, i3)"
   ]
  },
  {
   "cell_type": "markdown",
   "metadata": {},
   "source": [
    "> **发现我们无论传入的是负数, 它会变成正数**"
   ]
  },
  {
   "cell_type": "markdown",
   "metadata": {},
   "source": [
    "### 3. 通过`__new__`实现单例"
   ]
  },
  {
   "cell_type": "code",
   "execution_count": 6,
   "metadata": {},
   "outputs": [],
   "source": [
    "class Single:\n",
    "    \n",
    "    def __new__(cls, *args, **kwargs):\n",
    "        print(\"执行: __new__\")\n",
    "        # 判断类是否有某个属性\n",
    "        if not hasattr(cls, \"instance\"):\n",
    "            # 表示是第一次实例化对象\n",
    "            cls.instance = super().__new__(cls)\n",
    "            \n",
    "        # 记得返回, 只有返回了实例，才会继续调用__init__\n",
    "        return cls.instance\n",
    "        \n",
    "    def __init__(self, name):\n",
    "        print(\"执行__init__, name =\", name)\n",
    "        self.name = name"
   ]
  },
  {
   "cell_type": "code",
   "execution_count": 7,
   "metadata": {},
   "outputs": [
    {
     "name": "stdout",
     "output_type": "stream",
     "text": [
      "执行: __new__\n",
      "执行__init__, name = One\n",
      "One\n"
     ]
    }
   ],
   "source": [
    "# 实验\n",
    "s1 = Single(\"One\")\n",
    "print(s1.name)"
   ]
  },
  {
   "cell_type": "code",
   "execution_count": 8,
   "metadata": {},
   "outputs": [
    {
     "name": "stdout",
     "output_type": "stream",
     "text": [
      "执行: __new__\n",
      "执行__init__, name = Two\n",
      "Two\n"
     ]
    }
   ],
   "source": [
    "s2 = Single(\"Two\")\n",
    "print(s2.name)"
   ]
  },
  {
   "cell_type": "code",
   "execution_count": 9,
   "metadata": {},
   "outputs": [
    {
     "name": "stdout",
     "output_type": "stream",
     "text": [
      "Two Two\n"
     ]
    }
   ],
   "source": [
    "print(s1.name, s2.name)"
   ]
  },
  {
   "cell_type": "code",
   "execution_count": 10,
   "metadata": {},
   "outputs": [
    {
     "data": {
      "text/plain": [
       "True"
      ]
     },
     "execution_count": 10,
     "metadata": {},
     "output_type": "execute_result"
    }
   ],
   "source": [
    "s1 is s2"
   ]
  },
  {
   "cell_type": "markdown",
   "metadata": {},
   "source": [
    "> **到这里我们就实现了一个单例，不过注意`__init__`里面是会有其它操作，每次实例化会执行__init__。**"
   ]
  },
  {
   "cell_type": "markdown",
   "metadata": {},
   "source": [
    "### 4. 更改`__new__`返回的实例\n",
    "> 如果`__new__`创建的是当前类的实例，会自动调用`__init__`函数。  \n",
    "通过`return`语句里的`__new__`函数的第一个参数是`cls`来保证是否为当前类实例。  \n",
    "如果是其他类的类名，那么实际创建返回的就是其他类的实例，其实就不会调用当前类的`__init__`函数，**也不会**调用其他类的`__init__`函数。"
   ]
  },
  {
   "cell_type": "code",
   "execution_count": 11,
   "metadata": {},
   "outputs": [],
   "source": [
    "class Demo2:\n",
    "    \n",
    "    def __new__(cls, *args):\n",
    "        print(\"Demo02：__new__\", args)\n",
    "        return Demo1.__new__(Demo1, *args)\n",
    "    \n",
    "    def __init__(self, *args):\n",
    "        print(\"Demo02：__init__:\", args)"
   ]
  },
  {
   "cell_type": "code",
   "execution_count": 12,
   "metadata": {},
   "outputs": [
    {
     "name": "stdout",
     "output_type": "stream",
     "text": [
      "Demo02：__new__ (100,)\n",
      "Demo1执行: __new__ <class '__main__.Demo1'> 100\n",
      "Demo1:__new__的返回值id： 4355161104\n"
     ]
    }
   ],
   "source": [
    "# 发现未执行：Demo2和Demo1的__init__方法\n",
    "d = Demo2(100)"
   ]
  },
  {
   "cell_type": "code",
   "execution_count": 13,
   "metadata": {},
   "outputs": [
    {
     "data": {
      "text/plain": [
       "<__main__.Demo1 at 0x103967c10>"
      ]
     },
     "execution_count": 13,
     "metadata": {},
     "output_type": "execute_result"
    }
   ],
   "source": [
    "d"
   ]
  },
  {
   "cell_type": "code",
   "execution_count": 14,
   "metadata": {},
   "outputs": [
    {
     "data": {
      "text/plain": [
       "False"
      ]
     },
     "execution_count": 14,
     "metadata": {},
     "output_type": "execute_result"
    }
   ],
   "source": [
    "# 不是Demo2的实例哦！\n",
    "isinstance(d, Demo2)"
   ]
  },
  {
   "cell_type": "code",
   "execution_count": 15,
   "metadata": {},
   "outputs": [
    {
     "data": {
      "text/plain": [
       "True"
      ]
     },
     "execution_count": 15,
     "metadata": {},
     "output_type": "execute_result"
    }
   ],
   "source": [
    "isinstance(d, Demo1)"
   ]
  },
  {
   "cell_type": "markdown",
   "metadata": {},
   "source": [
    "> **通过实验发现：**  \n",
    "1. 修改了`Demo2`的`__new__`，让其返回了`Demo1`的实例\n",
    "2. 如果`__new__`返回了其它类的实例，那么不会执行当前类的`__init__`函数，也不会执行其它类的`__init__`函数。"
   ]
  },
  {
   "cell_type": "markdown",
   "metadata": {},
   "source": [
    "### 5. 多级继承\n",
    "> 在类多级继承的时候，函数调用顺序，是遵循**MRO**(`Method Resolution Order`)的，子类未实现这方法，就会去上级找，通过`__mro__`可以查看。  \n",
    "1. 自身和父类中实现的`__new__`都会执行\n",
    "2. `__init__`只会执行一次，遵循MRO。"
   ]
  },
  {
   "cell_type": "markdown",
   "metadata": {},
   "source": [
    "#### 5-1: 三者全部实现2个方法"
   ]
  },
  {
   "cell_type": "code",
   "execution_count": 16,
   "metadata": {},
   "outputs": [],
   "source": [
    "class A:\n",
    "    \n",
    "    def __new__(cls, *args, **kwargs):\n",
    "        print(\"A: __new__:\",)\n",
    "        return super().__new__(cls)\n",
    "    \n",
    "    def __init__(self):\n",
    "        print(\"A: __init__\")\n",
    "        \n",
    "\n",
    "class B(A):\n",
    "    \n",
    "    def __new__(cls, *args, **kwargs):\n",
    "        print(\"B: __new__:\",)\n",
    "        return super().__new__(cls)\n",
    "    \n",
    "    def __init__(self):\n",
    "        print(\"B: __init__\")\n",
    "        \n",
    "        \n",
    "class C(B):\n",
    "    \n",
    "    def __new__(cls, *args, **kwargs):\n",
    "        print(\"C: __new__:\",)\n",
    "        return super().__new__(cls)\n",
    "    \n",
    "    def __init__(self):\n",
    "        print(\"C: __init__\")"
   ]
  },
  {
   "cell_type": "code",
   "execution_count": 17,
   "metadata": {},
   "outputs": [
    {
     "name": "stdout",
     "output_type": "stream",
     "text": [
      "(<class '__main__.C'>, <class '__main__.B'>, <class '__main__.A'>, <class 'object'>)\n",
      "C: __new__:\n",
      "B: __new__:\n",
      "A: __new__:\n",
      "C: __init__\n"
     ]
    }
   ],
   "source": [
    "# 实例化\n",
    "print(C.__mro__)\n",
    "c1 = C()"
   ]
  },
  {
   "cell_type": "markdown",
   "metadata": {},
   "source": [
    "> **发现：**`__new__`方法都执行了，`__init__`方法只执行了一级。"
   ]
  },
  {
   "cell_type": "markdown",
   "metadata": {},
   "source": [
    "#### 5-2: 实现部分"
   ]
  },
  {
   "cell_type": "code",
   "execution_count": 18,
   "metadata": {},
   "outputs": [],
   "source": [
    "class A:\n",
    "    \n",
    "    def __new__(cls, *args, **kwargs):\n",
    "        print(\"A: __new__:\",)\n",
    "        return super().__new__(cls)\n",
    "    \n",
    "    def __init__(self):\n",
    "        print(\"A: __init__\")\n",
    "        \n",
    "\n",
    "class B(A):\n",
    "    \n",
    "    def __new__(cls, *args, **kwargs):\n",
    "        print(\"B: __new__:\",)\n",
    "        return super().__new__(cls)\n",
    "    \n",
    "    def __init__(self):\n",
    "        print(\"B: __init__\")\n",
    "        \n",
    "        \n",
    "class C(B):\n",
    "    \n",
    "    def __init__(self):\n",
    "        print(\"C: __init__\")"
   ]
  },
  {
   "cell_type": "code",
   "execution_count": 19,
   "metadata": {},
   "outputs": [
    {
     "name": "stdout",
     "output_type": "stream",
     "text": [
      "(<class '__main__.C'>, <class '__main__.B'>, <class '__main__.A'>, <class 'object'>)\n",
      "B: __new__:\n",
      "A: __new__:\n",
      "C: __init__\n"
     ]
    }
   ],
   "source": [
    "# 实例化\n",
    "print(C.__mro__)\n",
    "c = C()"
   ]
  },
  {
   "cell_type": "markdown",
   "metadata": {},
   "source": [
    "#### 5-3: 都不实现"
   ]
  },
  {
   "cell_type": "code",
   "execution_count": 20,
   "metadata": {},
   "outputs": [],
   "source": [
    "class A:\n",
    "    \n",
    "    def __new__(cls, *args, **kwargs):\n",
    "        print(\"A: __new__:\",)\n",
    "        return super().__new__(cls)\n",
    "    \n",
    "    def __init__(self):\n",
    "        print(\"A: __init__\")\n",
    "        \n",
    "\n",
    "class B(A):\n",
    "    \n",
    "    def __new__(cls, *args, **kwargs):\n",
    "        print(\"B: __new__:\",)\n",
    "        return super().__new__(cls)\n",
    "    \n",
    "    def __init__(self):\n",
    "        print(\"B: __init__\")\n",
    "        \n",
    "        \n",
    "class C(B):\n",
    "    pass"
   ]
  },
  {
   "cell_type": "code",
   "execution_count": 21,
   "metadata": {},
   "outputs": [
    {
     "name": "stdout",
     "output_type": "stream",
     "text": [
      "(<class '__main__.C'>, <class '__main__.B'>, <class '__main__.A'>, <class 'object'>)\n",
      "B: __new__:\n",
      "A: __new__:\n",
      "B: __init__\n"
     ]
    }
   ],
   "source": [
    "# 实例化\n",
    "print(C.__mro__)\n",
    "c = C()"
   ]
  },
  {
   "cell_type": "code",
   "execution_count": null,
   "metadata": {},
   "outputs": [],
   "source": []
  }
 ],
 "metadata": {
  "kernelspec": {
   "display_name": "Python 3",
   "language": "python",
   "name": "python3"
  },
  "language_info": {
   "codemirror_mode": {
    "name": "ipython",
    "version": 3
   },
   "file_extension": ".py",
   "mimetype": "text/x-python",
   "name": "python",
   "nbconvert_exporter": "python",
   "pygments_lexer": "ipython3",
   "version": "3.7.6"
  }
 },
 "nbformat": 4,
 "nbformat_minor": 2
}
