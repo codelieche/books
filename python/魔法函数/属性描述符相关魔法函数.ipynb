{
 "cells": [
  {
   "cell_type": "markdown",
   "metadata": {},
   "source": [
    "## 属性描述符相关魔法函数"
   ]
  },
  {
   "cell_type": "markdown",
   "metadata": {},
   "source": [
    "### 1. 描述符(Descriptor)\n",
    "- **描述符**是实现了特定协议的类。  \n",
    "- **描述符功能**：是对多个属性运用相同存取逻辑的一种方式。  \n",
    "- **描述符协议**：包括`__get__`、`__set__`和`__delete__`方法，通常实现部分协议。  \n",
    "> 大多数描述符只实现了`__get__`和`__set__`方法，而`property`类实现了完整的描述符协议。\n",
    "\n",
    "- 只要实现了`__get__`、`__set__`和`__delete__`中的一个就可以认为是描述符\n",
    "- **Non-data Descriptor**:只实现`__get__`方法的对象是**非数据描述符**，在初始化之后，它们只能被读取\n",
    "- **Data Descriptor**: 同时实现了`__get__`和`__set__`的对象是**数据描述符**，这种属性是可读可写的"
   ]
  },
  {
   "cell_type": "markdown",
   "metadata": {},
   "source": [
    "描述符对象一般是作为其它类对象的属性而存在。  \n",
    "内部定义了三个方法用来实现属性的查找(get)、设置(set)和删除(delete)行为。\n",
    "- `__get__(self, obj, objtype=None)`: 定义当尝试获取描述符的值时的行为\n",
    "- `__set__(self, obj, value)`: 定义当尝试设置或者改变描述符的值时的行为\n",
    "- `__delete__(self, obj)`: 定义描述符的值被删除时的行为"
   ]
  },
  {
   "cell_type": "markdown",
   "metadata": {},
   "source": [
    "### 2. 非数据描述符\n",
    "> `non-data descriptor`，就是只实现了`__get__`方法的描述符。"
   ]
  },
  {
   "cell_type": "code",
   "execution_count": 1,
   "metadata": {},
   "outputs": [],
   "source": [
    "class BirthdayField(object):\n",
    "    \n",
    "    def __init__(self, value):\n",
    "        self.value = value\n",
    "    \n",
    "    def __get__(self, obj, objtype=None):\n",
    "        # 这里obj会是引用到BirthdayField的类\n",
    "        # objtype是引用这个属性描述符的类\n",
    "        print(\"__get__:\")\n",
    "        print(\"\\t self:{}\".format(self))\n",
    "        print(\"\\t obj:{}\".format(obj))\n",
    "        print(\"\\t Object Type:{}\".format(objtype))\n",
    "        return self.value"
   ]
  },
  {
   "cell_type": "code",
   "execution_count": 2,
   "metadata": {},
   "outputs": [],
   "source": [
    "class People:\n",
    "    \n",
    "    birth = BirthdayField(\"2000年1月1日\")"
   ]
  },
  {
   "cell_type": "code",
   "execution_count": 3,
   "metadata": {},
   "outputs": [
    {
     "name": "stdout",
     "output_type": "stream",
     "text": [
      "__get__:\n",
      "\t self:<__main__.BirthdayField object at 0x1056e0650>\n",
      "\t obj:None\n",
      "\t Object Type:<class '__main__.People'>\n",
      "2000年1月1日\n"
     ]
    }
   ],
   "source": [
    "print(People.birth)"
   ]
  },
  {
   "cell_type": "code",
   "execution_count": 4,
   "metadata": {},
   "outputs": [],
   "source": [
    "# 实例化People\n",
    "p = People()"
   ]
  },
  {
   "cell_type": "code",
   "execution_count": 5,
   "metadata": {},
   "outputs": [
    {
     "name": "stdout",
     "output_type": "stream",
     "text": [
      "__get__:\n",
      "\t self:<__main__.BirthdayField object at 0x1056e0650>\n",
      "\t obj:<__main__.People object at 0x10688fb10>\n",
      "\t Object Type:<class '__main__.People'>\n"
     ]
    },
    {
     "data": {
      "text/plain": [
       "'2000年1月1日'"
      ]
     },
     "execution_count": 5,
     "metadata": {},
     "output_type": "execute_result"
    }
   ],
   "source": [
    "p.birth"
   ]
  },
  {
   "cell_type": "code",
   "execution_count": 6,
   "metadata": {},
   "outputs": [],
   "source": [
    "p.birth = \"new value\""
   ]
  },
  {
   "cell_type": "code",
   "execution_count": 7,
   "metadata": {},
   "outputs": [
    {
     "data": {
      "text/plain": [
       "'new value'"
      ]
     },
     "execution_count": 7,
     "metadata": {},
     "output_type": "execute_result"
    }
   ],
   "source": [
    "p.birth"
   ]
  },
  {
   "cell_type": "markdown",
   "metadata": {},
   "source": [
    "**发现当我们给`p.birth`重新复制之后，获取值的时候已经不再进入`__get__`方法了**"
   ]
  },
  {
   "cell_type": "markdown",
   "metadata": {},
   "source": [
    "### 3. 数据描述符\n",
    "> `data descriptor`，就是同时实现了`__get__`和`__set__`方法的描述符。"
   ]
  },
  {
   "cell_type": "code",
   "execution_count": 8,
   "metadata": {},
   "outputs": [],
   "source": [
    "class BirthdayField(object):\n",
    "    \n",
    "    def __init__(self, value):\n",
    "        self.value = value\n",
    "    \n",
    "    def __get__(self, obj, objtype=None):\n",
    "        # 这里obj会是引用到BirthdayField的类\n",
    "        # objtype是引用这个属性描述符的类\n",
    "        print(\"__get__:\")\n",
    "        print(\"\\t self:{}\".format(self))\n",
    "        print(\"\\t obj:{}\".format(obj))\n",
    "        print(\"\\t Object Type:{}\".format(objtype))\n",
    "        return self.value\n",
    "    \n",
    "    def __set__(self, obj, value):\n",
    "        print(\"___set__:\")\n",
    "        print(\"__get__:\")\n",
    "        print(\"\\t self:{}\".format(self))\n",
    "        print(\"\\t obj:{}\".format(obj))\n",
    "        print(\"\\t Value:{}\".format(value))\n",
    "        if value != None:\n",
    "            self.value = value\n",
    "        else:\n",
    "            raise ValueError(\"请传入value\")\n",
    "            \n",
    "    def __delete__(self, obj):\n",
    "        pass"
   ]
  },
  {
   "cell_type": "code",
   "execution_count": 9,
   "metadata": {},
   "outputs": [],
   "source": [
    "class People:\n",
    "    \n",
    "    birth = BirthdayField(\"2000年1月1日\")"
   ]
  },
  {
   "cell_type": "code",
   "execution_count": 10,
   "metadata": {},
   "outputs": [
    {
     "name": "stdout",
     "output_type": "stream",
     "text": [
      "__get__:\n",
      "\t self:<__main__.BirthdayField object at 0x10688fbd0>\n",
      "\t obj:None\n",
      "\t Object Type:<class '__main__.People'>\n"
     ]
    },
    {
     "data": {
      "text/plain": [
       "'2000年1月1日'"
      ]
     },
     "execution_count": 10,
     "metadata": {},
     "output_type": "execute_result"
    }
   ],
   "source": [
    "People.birth"
   ]
  },
  {
   "cell_type": "code",
   "execution_count": 11,
   "metadata": {},
   "outputs": [],
   "source": [
    "# 实例化对象\n",
    "p = People()"
   ]
  },
  {
   "cell_type": "code",
   "execution_count": 12,
   "metadata": {},
   "outputs": [
    {
     "name": "stdout",
     "output_type": "stream",
     "text": [
      "__get__:\n",
      "\t self:<__main__.BirthdayField object at 0x10688fbd0>\n",
      "\t obj:<__main__.People object at 0x10689d990>\n",
      "\t Object Type:<class '__main__.People'>\n"
     ]
    },
    {
     "data": {
      "text/plain": [
       "'2000年1月1日'"
      ]
     },
     "execution_count": 12,
     "metadata": {},
     "output_type": "execute_result"
    }
   ],
   "source": [
    "# 获取对象的属性\n",
    "p.birth"
   ]
  },
  {
   "cell_type": "code",
   "execution_count": 13,
   "metadata": {},
   "outputs": [
    {
     "name": "stdout",
     "output_type": "stream",
     "text": [
      "___set__:\n",
      "__get__:\n",
      "\t self:<__main__.BirthdayField object at 0x10688fbd0>\n",
      "\t obj:<__main__.People object at 0x10689d990>\n",
      "\t Value:2000年9月1日\n"
     ]
    }
   ],
   "source": [
    "# 给属性赋值\n",
    "p.birth = \"2000年9月1日\""
   ]
  },
  {
   "cell_type": "code",
   "execution_count": 14,
   "metadata": {},
   "outputs": [
    {
     "name": "stdout",
     "output_type": "stream",
     "text": [
      "__get__:\n",
      "\t self:<__main__.BirthdayField object at 0x10688fbd0>\n",
      "\t obj:<__main__.People object at 0x10689d990>\n",
      "\t Object Type:<class '__main__.People'>\n"
     ]
    },
    {
     "data": {
      "text/plain": [
       "'2000年9月1日'"
      ]
     },
     "execution_count": 14,
     "metadata": {},
     "output_type": "execute_result"
    }
   ],
   "source": [
    "p.birth"
   ]
  },
  {
   "cell_type": "markdown",
   "metadata": {},
   "source": [
    "**发现给`p.birth`重新复制之后，获取值的时候，依然进入`__get__`方法**。而`non-data descriptor`的就不会。"
   ]
  },
  {
   "cell_type": "markdown",
   "metadata": {},
   "source": [
    "### 4. 示例\n",
    "> 创建个AgeField的类，让其值是0-200之间。然后User使用AgeField。"
   ]
  },
  {
   "cell_type": "code",
   "execution_count": 15,
   "metadata": {},
   "outputs": [],
   "source": [
    "import numbers"
   ]
  },
  {
   "cell_type": "code",
   "execution_count": 16,
   "metadata": {},
   "outputs": [],
   "source": [
    "# 创建数据描述符\n",
    "class AgeField:\n",
    "    \n",
    "    def __init__(self, value=0):\n",
    "        self.__value = value\n",
    "        \n",
    "    def __get__(self, obj, objtype=None):\n",
    "        return self.__value\n",
    "    \n",
    "    def __set__(self, obj, value):\n",
    "        # 传递的值需要是整型\n",
    "        if isinstance(value, numbers.Integral):\n",
    "            if value >=0 and value <= 200:\n",
    "                self.__value = value\n",
    "            else:\n",
    "                raise ValueError(\"值需要是0-200之间\")\n",
    "        else:\n",
    "            raise ValueError(\"需要传递整数类型\")"
   ]
  },
  {
   "cell_type": "code",
   "execution_count": 17,
   "metadata": {},
   "outputs": [],
   "source": [
    "# 创建User类\n",
    "class User:\n",
    "    age = AgeField()"
   ]
  },
  {
   "cell_type": "code",
   "execution_count": 18,
   "metadata": {},
   "outputs": [],
   "source": [
    "# 实例化User\n",
    "user = User()"
   ]
  },
  {
   "cell_type": "code",
   "execution_count": 19,
   "metadata": {},
   "outputs": [
    {
     "name": "stdout",
     "output_type": "stream",
     "text": [
      "0\n"
     ]
    }
   ],
   "source": [
    "print(user.age)"
   ]
  },
  {
   "cell_type": "code",
   "execution_count": 20,
   "metadata": {},
   "outputs": [],
   "source": [
    "user.age = 20"
   ]
  },
  {
   "cell_type": "code",
   "execution_count": 21,
   "metadata": {},
   "outputs": [
    {
     "data": {
      "text/plain": [
       "20"
      ]
     },
     "execution_count": 21,
     "metadata": {},
     "output_type": "execute_result"
    }
   ],
   "source": [
    "user.age"
   ]
  },
  {
   "cell_type": "code",
   "execution_count": 22,
   "metadata": {},
   "outputs": [
    {
     "ename": "ValueError",
     "evalue": "值需要是0-200之间",
     "output_type": "error",
     "traceback": [
      "\u001b[0;31m---------------------------------------------------------------------------\u001b[0m",
      "\u001b[0;31mValueError\u001b[0m                                Traceback (most recent call last)",
      "\u001b[0;32m<ipython-input-22-0442cf4c9063>\u001b[0m in \u001b[0;36m<module>\u001b[0;34m()\u001b[0m\n\u001b[1;32m      1\u001b[0m \u001b[0;31m# 测试超出范围的值\u001b[0m\u001b[0;34m\u001b[0m\u001b[0;34m\u001b[0m\u001b[0;34m\u001b[0m\u001b[0m\n\u001b[0;32m----> 2\u001b[0;31m \u001b[0muser\u001b[0m\u001b[0;34m.\u001b[0m\u001b[0mage\u001b[0m \u001b[0;34m=\u001b[0m \u001b[0;36m999\u001b[0m\u001b[0;34m\u001b[0m\u001b[0;34m\u001b[0m\u001b[0m\n\u001b[0m",
      "\u001b[0;32m<ipython-input-16-819ff240149f>\u001b[0m in \u001b[0;36m__set__\u001b[0;34m(self, obj, value)\u001b[0m\n\u001b[1;32m     14\u001b[0m                 \u001b[0mself\u001b[0m\u001b[0;34m.\u001b[0m\u001b[0m__value\u001b[0m \u001b[0;34m=\u001b[0m \u001b[0mvalue\u001b[0m\u001b[0;34m\u001b[0m\u001b[0;34m\u001b[0m\u001b[0m\n\u001b[1;32m     15\u001b[0m             \u001b[0;32melse\u001b[0m\u001b[0;34m:\u001b[0m\u001b[0;34m\u001b[0m\u001b[0;34m\u001b[0m\u001b[0m\n\u001b[0;32m---> 16\u001b[0;31m                 \u001b[0;32mraise\u001b[0m \u001b[0mValueError\u001b[0m\u001b[0;34m(\u001b[0m\u001b[0;34m\"值需要是0-200之间\"\u001b[0m\u001b[0;34m)\u001b[0m\u001b[0;34m\u001b[0m\u001b[0;34m\u001b[0m\u001b[0m\n\u001b[0m\u001b[1;32m     17\u001b[0m         \u001b[0;32melse\u001b[0m\u001b[0;34m:\u001b[0m\u001b[0;34m\u001b[0m\u001b[0;34m\u001b[0m\u001b[0m\n\u001b[1;32m     18\u001b[0m             \u001b[0;32mraise\u001b[0m \u001b[0mValueError\u001b[0m\u001b[0;34m(\u001b[0m\u001b[0;34m\"需要传递整数类型\"\u001b[0m\u001b[0;34m)\u001b[0m\u001b[0;34m\u001b[0m\u001b[0;34m\u001b[0m\u001b[0m\n",
      "\u001b[0;31mValueError\u001b[0m: 值需要是0-200之间"
     ]
    }
   ],
   "source": [
    "# 测试超出范围的值\n",
    "user.age = 999"
   ]
  },
  {
   "cell_type": "code",
   "execution_count": 23,
   "metadata": {},
   "outputs": [
    {
     "ename": "ValueError",
     "evalue": "需要传递整数类型",
     "output_type": "error",
     "traceback": [
      "\u001b[0;31m---------------------------------------------------------------------------\u001b[0m",
      "\u001b[0;31mValueError\u001b[0m                                Traceback (most recent call last)",
      "\u001b[0;32m<ipython-input-23-bd2ad2a68362>\u001b[0m in \u001b[0;36m<module>\u001b[0;34m()\u001b[0m\n\u001b[1;32m      1\u001b[0m \u001b[0;31m# 设置错误类型的值\u001b[0m\u001b[0;34m\u001b[0m\u001b[0;34m\u001b[0m\u001b[0;34m\u001b[0m\u001b[0m\n\u001b[0;32m----> 2\u001b[0;31m \u001b[0muser\u001b[0m\u001b[0;34m.\u001b[0m\u001b[0mage\u001b[0m \u001b[0;34m=\u001b[0m \u001b[0;34m\"abc\"\u001b[0m\u001b[0;34m\u001b[0m\u001b[0;34m\u001b[0m\u001b[0m\n\u001b[0m",
      "\u001b[0;32m<ipython-input-16-819ff240149f>\u001b[0m in \u001b[0;36m__set__\u001b[0;34m(self, obj, value)\u001b[0m\n\u001b[1;32m     16\u001b[0m                 \u001b[0;32mraise\u001b[0m \u001b[0mValueError\u001b[0m\u001b[0;34m(\u001b[0m\u001b[0;34m\"值需要是0-200之间\"\u001b[0m\u001b[0;34m)\u001b[0m\u001b[0;34m\u001b[0m\u001b[0;34m\u001b[0m\u001b[0m\n\u001b[1;32m     17\u001b[0m         \u001b[0;32melse\u001b[0m\u001b[0;34m:\u001b[0m\u001b[0;34m\u001b[0m\u001b[0;34m\u001b[0m\u001b[0m\n\u001b[0;32m---> 18\u001b[0;31m             \u001b[0;32mraise\u001b[0m \u001b[0mValueError\u001b[0m\u001b[0;34m(\u001b[0m\u001b[0;34m\"需要传递整数类型\"\u001b[0m\u001b[0;34m)\u001b[0m\u001b[0;34m\u001b[0m\u001b[0;34m\u001b[0m\u001b[0m\n\u001b[0m",
      "\u001b[0;31mValueError\u001b[0m: 需要传递整数类型"
     ]
    }
   ],
   "source": [
    "# 设置错误类型的值\n",
    "user.age = \"abc\""
   ]
  },
  {
   "cell_type": "markdown",
   "metadata": {},
   "source": [
    "**AgeField**当设置的值不正确时会抛出异常。  \n",
    "熟悉了属性描述符的基本使用，再去看`Django ORM`的相关源码就非常容易理解了。"
   ]
  },
  {
   "cell_type": "code",
   "execution_count": null,
   "metadata": {},
   "outputs": [],
   "source": []
  }
 ],
 "metadata": {
  "kernelspec": {
   "display_name": "Python 3",
   "language": "python",
   "name": "python3"
  },
  "language_info": {
   "codemirror_mode": {
    "name": "ipython",
    "version": 3
   },
   "file_extension": ".py",
   "mimetype": "text/x-python",
   "name": "python",
   "nbconvert_exporter": "python",
   "pygments_lexer": "ipython3",
   "version": "3.7.6"
  }
 },
 "nbformat": 4,
 "nbformat_minor": 2
}
