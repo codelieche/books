{
 "cells": [
  {
   "cell_type": "markdown",
   "metadata": {},
   "source": [
    "## `__subclasshook__`实现被隐式继承的类\n",
    "> 采用`__subclasshook__`实现类似golang中的接口。"
   ]
  },
  {
   "cell_type": "markdown",
   "metadata": {},
   "source": [
    "### 1. 鸭子类型duck typing\n",
    "> 当看到一只鸟走起来像鸭子、游泳起来像鸭子、叫起来也像鸭子，那么这只鸟就可以被称为鸭子。"
   ]
  },
  {
   "cell_type": "code",
   "execution_count": 1,
   "metadata": {},
   "outputs": [],
   "source": [
    "# 在python中只要实现了某个特殊方法，就会有某个行为，示例：\n",
    "class Duck:\n",
    "    \n",
    "    def __len__(self):\n",
    "        return 0\n",
    "    \n",
    "    def __getitem__(self, item):\n",
    "        return item"
   ]
  },
  {
   "cell_type": "code",
   "execution_count": 2,
   "metadata": {},
   "outputs": [],
   "source": [
    "d = Duck()"
   ]
  },
  {
   "cell_type": "code",
   "execution_count": 3,
   "metadata": {},
   "outputs": [
    {
     "data": {
      "text/plain": [
       "<__main__.Duck at 0x104e24850>"
      ]
     },
     "execution_count": 3,
     "metadata": {},
     "output_type": "execute_result"
    }
   ],
   "source": [
    "d"
   ]
  },
  {
   "cell_type": "code",
   "execution_count": 4,
   "metadata": {},
   "outputs": [
    {
     "data": {
      "text/plain": [
       "0"
      ]
     },
     "execution_count": 4,
     "metadata": {},
     "output_type": "execute_result"
    }
   ],
   "source": [
    "len(d)"
   ]
  },
  {
   "cell_type": "code",
   "execution_count": 5,
   "metadata": {},
   "outputs": [
    {
     "data": {
      "text/plain": [
       "100"
      ]
     },
     "execution_count": 5,
     "metadata": {},
     "output_type": "execute_result"
    }
   ],
   "source": [
    "d[100]"
   ]
  },
  {
   "cell_type": "markdown",
   "metadata": {},
   "source": [
    "### 2. Golang中的接口\n",
    "> Golang中并不用显性的说要实现哪个接口，只要实现了接口中有的方法，那么这个结构体就相当于实现了这接口。"
   ]
  },
  {
   "cell_type": "markdown",
   "metadata": {},
   "source": [
    "#### 2-1： 先编写一个接口\n",
    "\n",
    "```golang\n",
    "stuct DuckInterface interface {\n",
    "    Run()\n",
    "    Call()\n",
    "}\n",
    "```"
   ]
  },
  {
   "cell_type": "markdown",
   "metadata": {},
   "source": [
    "#### 2-2: 创建个结构体并实现接口\n",
    "\n",
    "```golang\n",
    "type XiaoHuangYa struct {\n",
    "\tname string\n",
    "\tage  uint\n",
    "}\n",
    "\n",
    "func (xhy *XiaoHuangYa) Swim() {\n",
    "\tfmt.Println(\"我是小黄鸭，我能游泳\")\n",
    "}\n",
    "\n",
    "func (xhy *XiaoHuangYa) Call() {\n",
    "\tfmt.Printf(\"我是小黄鸭(%s-%d)，我能叫\\n\", xhy.name, xhy.age)\n",
    "}\n",
    "\n",
    "func DuckInfo(duck DuckInterface) {\n",
    "\tduck.Swim()\n",
    "\tduck.Call()\n",
    "}\n",
    "```"
   ]
  },
  {
   "cell_type": "markdown",
   "metadata": {},
   "source": [
    "#### 2-3全部代码\n",
    "\n",
    "```golang\n",
    "package main\n",
    "\n",
    "import \"fmt\"\n",
    "\n",
    "type DuckInterface interface {\n",
    "\tSwim()\n",
    "\tCall()\n",
    "}\n",
    "\n",
    "type XiaoHuangYa struct {\n",
    "\tname string\n",
    "\tage  uint\n",
    "}\n",
    "\n",
    "func (xhy *XiaoHuangYa) Swim() {\n",
    "\tfmt.Println(\"我是小黄鸭，我能游泳\")\n",
    "}\n",
    "\n",
    "func (xhy *XiaoHuangYa) Call() {\n",
    "\tfmt.Printf(\"我是小黄鸭(%s-%d)，我能叫\\n\", xhy.name, xhy.age)\n",
    "}\n",
    "\n",
    "func DuckInfo(duck DuckInterface) {\n",
    "\tduck.Swim()\n",
    "\tduck.Call()\n",
    "}\n",
    "\n",
    "func main() {\n",
    "\tfmt.Printf(\"===开始===\\n\")\n",
    "\txhy := XiaoHuangYa{\"test\", 2}\n",
    "\tDuckInfo(&xhy)\n",
    "\tfmt.Printf(\"===End===\\n\")\n",
    "\n",
    "}\n",
    "```"
   ]
  },
  {
   "cell_type": "markdown",
   "metadata": {},
   "source": [
    "#### 2-4：输出结果\n",
    "\n",
    "```\n",
    "===开始===\n",
    "我是小黄鸭，我能游泳\n",
    "我是小黄鸭(test-2)，我能叫\n",
    "===End===\n",
    "\n",
    "```"
   ]
  },
  {
   "cell_type": "markdown",
   "metadata": {},
   "source": [
    "### 3. 使用抽象类"
   ]
  },
  {
   "cell_type": "code",
   "execution_count": 6,
   "metadata": {},
   "outputs": [],
   "source": [
    "# 定义鸭子这个抽象的类\n",
    "from abc import ABCMeta, abstractmethod"
   ]
  },
  {
   "cell_type": "code",
   "execution_count": 7,
   "metadata": {},
   "outputs": [],
   "source": [
    "# 定义个鸭子类型\n",
    "class Duck(metaclass=ABCMeta):\n",
    "    \n",
    "    @abstractmethod\n",
    "    def swim(self):\n",
    "        pass\n",
    "    \n",
    "    @abstractmethod\n",
    "    def call(self):\n",
    "        pass"
   ]
  },
  {
   "cell_type": "code",
   "execution_count": 8,
   "metadata": {},
   "outputs": [
    {
     "name": "stdout",
     "output_type": "stream",
     "text": [
      "Can't instantiate abstract class Duck with abstract methods call, swim\n"
     ]
    }
   ],
   "source": [
    "try:\n",
    "    d = Duck()\n",
    "except Exception as e:\n",
    "    print(e)"
   ]
  },
  {
   "cell_type": "code",
   "execution_count": 9,
   "metadata": {},
   "outputs": [],
   "source": [
    "# 继承Duck，并实现Duck类型的抽象方法\n",
    "class XiaoHuangYa(Duck):\n",
    "    \n",
    "    def swim(self):\n",
    "        print(\"我是小黄鸭，能游泳\")\n",
    "        \n",
    "    def call(self):\n",
    "        print(\"我是小黄鸭，我会叫\")"
   ]
  },
  {
   "cell_type": "code",
   "execution_count": 10,
   "metadata": {},
   "outputs": [],
   "source": [
    "xhy = XiaoHuangYa()"
   ]
  },
  {
   "cell_type": "code",
   "execution_count": 11,
   "metadata": {},
   "outputs": [
    {
     "data": {
      "text/plain": [
       "<__main__.XiaoHuangYa at 0x104e0b990>"
      ]
     },
     "execution_count": 11,
     "metadata": {},
     "output_type": "execute_result"
    }
   ],
   "source": [
    "xhy"
   ]
  },
  {
   "cell_type": "code",
   "execution_count": 12,
   "metadata": {},
   "outputs": [
    {
     "name": "stdout",
     "output_type": "stream",
     "text": [
      "我是小黄鸭，能游泳\n",
      "我是小黄鸭，我会叫\n"
     ]
    }
   ],
   "source": [
    "xhy.swim()\n",
    "xhy.call()"
   ]
  },
  {
   "cell_type": "code",
   "execution_count": 13,
   "metadata": {},
   "outputs": [
    {
     "data": {
      "text/plain": [
       "True"
      ]
     },
     "execution_count": 13,
     "metadata": {},
     "output_type": "execute_result"
    }
   ],
   "source": [
    "# 判断是否是其子类\n",
    "issubclass(XiaoHuangYa, Duck)"
   ]
  },
  {
   "cell_type": "markdown",
   "metadata": {},
   "source": [
    "### 4. 使用`__subclasshook__`实现隐式类\n",
    "> 无需显示的继承，通过`issubclass`也可判断其是其子类"
   ]
  },
  {
   "cell_type": "code",
   "execution_count": 14,
   "metadata": {},
   "outputs": [],
   "source": [
    "# 引入abc\n",
    "from abc import ABCMeta, abstractmethod"
   ]
  },
  {
   "cell_type": "code",
   "execution_count": 15,
   "metadata": {},
   "outputs": [],
   "source": [
    "# 定义个检查类是否具有某个函数的方法\n",
    "def _check_methods(C, *methods):\n",
    "    mro = C.__mro__\n",
    "    for method in methods:\n",
    "        for B in mro:\n",
    "            if method in B.__dict__:\n",
    "                if B.__dict__[method] is None:\n",
    "                    return None\n",
    "                # 只要有某个父类有这个方法就break\n",
    "                break\n",
    "        else:\n",
    "            return None\n",
    "    return True"
   ]
  },
  {
   "cell_type": "code",
   "execution_count": 16,
   "metadata": {},
   "outputs": [],
   "source": [
    "# 定义DuckBase的类\n",
    "class DuckBase(metaclass=ABCMeta):\n",
    "    \n",
    "    @abstractmethod\n",
    "    def swim(self):\n",
    "        pass\n",
    "    \n",
    "    @abstractmethod\n",
    "    def call(self):\n",
    "        pass\n",
    "    \n",
    "    @classmethod\n",
    "    def __subclasshook__(cls, subclass):\n",
    "        if cls is DuckBase:\n",
    "            # 判断类中是否有某个函数\n",
    "            return _check_methods(cls, \"swim\", \"call\")\n",
    "        else:\n",
    "            return None"
   ]
  },
  {
   "cell_type": "code",
   "execution_count": 17,
   "metadata": {},
   "outputs": [],
   "source": [
    "# 创建个类XiaoHuangYa02，隐式继承DuckBase\n",
    "class XiaoHuangYa02:\n",
    "    \n",
    "    def swim(self):\n",
    "        print(\"我是小黄鸭2，我会游泳\")\n",
    "    \n",
    "    def call(self):\n",
    "        print(\"我是小黄鸭2，我会叫\")"
   ]
  },
  {
   "cell_type": "code",
   "execution_count": 18,
   "metadata": {},
   "outputs": [],
   "source": [
    "# 实例化XiaoHuangYa02\n",
    "xhy2 = XiaoHuangYa02()"
   ]
  },
  {
   "cell_type": "code",
   "execution_count": 19,
   "metadata": {},
   "outputs": [
    {
     "data": {
      "text/plain": [
       "<__main__.XiaoHuangYa02 at 0x104e4e090>"
      ]
     },
     "execution_count": 19,
     "metadata": {},
     "output_type": "execute_result"
    }
   ],
   "source": [
    "xhy2"
   ]
  },
  {
   "cell_type": "code",
   "execution_count": 20,
   "metadata": {},
   "outputs": [
    {
     "data": {
      "text/plain": [
       "True"
      ]
     },
     "execution_count": 20,
     "metadata": {},
     "output_type": "execute_result"
    }
   ],
   "source": [
    "# 判断XiaoHuangYa02是谁的子类\n",
    "issubclass(XiaoHuangYa02, DuckBase)"
   ]
  },
  {
   "cell_type": "code",
   "execution_count": 21,
   "metadata": {},
   "outputs": [
    {
     "data": {
      "text/plain": [
       "False"
      ]
     },
     "execution_count": 21,
     "metadata": {},
     "output_type": "execute_result"
    }
   ],
   "source": [
    "issubclass(XiaoHuangYa02, Duck)"
   ]
  },
  {
   "cell_type": "code",
   "execution_count": 22,
   "metadata": {},
   "outputs": [
    {
     "data": {
      "text/plain": [
       "True"
      ]
     },
     "execution_count": 22,
     "metadata": {},
     "output_type": "execute_result"
    }
   ],
   "source": [
    "# XiaoHuangYa虽然是集成了Duck抽象类，但是其实现了swim和call的方法，所以其也是DuckBase的子类\n",
    "issubclass(XiaoHuangYa, DuckBase)"
   ]
  },
  {
   "cell_type": "markdown",
   "metadata": {},
   "source": [
    "**到这里，我们通过`__subclasshook__`也实现了隐式继承**"
   ]
  },
  {
   "cell_type": "markdown",
   "metadata": {},
   "source": [
    "### 5. 查看python源码"
   ]
  },
  {
   "cell_type": "code",
   "execution_count": 23,
   "metadata": {},
   "outputs": [],
   "source": [
    "# 引入collections.abc中的类\n",
    "from collections.abc import Sized"
   ]
  },
  {
   "cell_type": "markdown",
   "metadata": {},
   "source": [
    "#### 查看源码:\n",
    "\n",
    "- **内建常量：***\n",
    "\n",
    "```python\n",
    "NotImplemented = None # (!) real value is ''\n",
    "```\n",
    "---\n",
    "\n",
    "- **Sized类：**\n",
    "\n",
    "```python\n",
    "class Sized(metaclass=ABCMeta):\n",
    "\n",
    "    __slots__ = ()\n",
    "\n",
    "    @abstractmethod\n",
    "    def __len__(self):\n",
    "        return 0\n",
    "\n",
    "    @classmethod\n",
    "    def __subclasshook__(cls, C):\n",
    "        if cls is Sized:\n",
    "            return _check_methods(C, \"__len__\")\n",
    "        return NotImplemented\n",
    "```\n",
    "\n",
    "> 通过源码查看，只要实现了`__len__`这个方法，可以说就实现了Sized\n",
    "---\n",
    "\n",
    "- **_check_methods方法：**\n",
    "\n",
    "```python\n",
    "def _check_methods(C, *methods):\n",
    "    mro = C.__mro__\n",
    "    for method in methods:\n",
    "        for B in mro:\n",
    "            if method in B.__dict__:\n",
    "                if B.__dict__[method] is None:\n",
    "                    return NotImplemented\n",
    "                break\n",
    "        else:\n",
    "            return NotImplemented\n",
    "    return True\n",
    "```\n",
    "\n"
   ]
  },
  {
   "cell_type": "code",
   "execution_count": 24,
   "metadata": {},
   "outputs": [],
   "source": [
    "# 自定义一个类\n",
    "class Team:\n",
    "    \n",
    "    def __init__(self, users):\n",
    "        self.users = users\n",
    "    \n",
    "    def __len__(self):\n",
    "        return len(self.users)"
   ]
  },
  {
   "cell_type": "code",
   "execution_count": 25,
   "metadata": {},
   "outputs": [],
   "source": [
    "t = Team(users=[\"codelieche\", \"Python\", \"Golang\"])"
   ]
  },
  {
   "cell_type": "code",
   "execution_count": 26,
   "metadata": {},
   "outputs": [
    {
     "data": {
      "text/plain": [
       "3"
      ]
     },
     "execution_count": 26,
     "metadata": {},
     "output_type": "execute_result"
    }
   ],
   "source": [
    "len(t)"
   ]
  },
  {
   "cell_type": "code",
   "execution_count": 27,
   "metadata": {},
   "outputs": [
    {
     "data": {
      "text/plain": [
       "True"
      ]
     },
     "execution_count": 27,
     "metadata": {},
     "output_type": "execute_result"
    }
   ],
   "source": [
    "issubclass(Team, Sized)"
   ]
  },
  {
   "cell_type": "code",
   "execution_count": null,
   "metadata": {},
   "outputs": [],
   "source": []
  }
 ],
 "metadata": {
  "kernelspec": {
   "display_name": "Python 3",
   "language": "python",
   "name": "python3"
  },
  "language_info": {
   "codemirror_mode": {
    "name": "ipython",
    "version": 3
   },
   "file_extension": ".py",
   "mimetype": "text/x-python",
   "name": "python",
   "nbconvert_exporter": "python",
   "pygments_lexer": "ipython3",
   "version": "3.7.6"
  }
 },
 "nbformat": 4,
 "nbformat_minor": 2
}
