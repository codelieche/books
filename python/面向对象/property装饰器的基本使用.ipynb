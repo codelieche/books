{
 "cells": [
  {
   "cell_type": "markdown",
   "metadata": {},
   "source": [
    "## property装饰器的基本使用\n",
    "> 在我们自定义类的时候，property很多时候就很有用。"
   ]
  },
  {
   "cell_type": "code",
   "execution_count": 1,
   "metadata": {},
   "outputs": [],
   "source": [
    "# 直接上示例\n",
    "\n",
    "import random\n",
    "\n",
    "class People:\n",
    "    \n",
    "    def __init__(self, name ,age):\n",
    "        self.name = name \n",
    "        self.age = age\n",
    "        \n",
    "    def love(self):\n",
    "        loves = [\"Python\", \"Golang\", \"Java\", \"React.js\", \"Linux\", \"MacOS\", \"C\", \"C++\", \"Music\", \"Movie\"]\n",
    "        \n",
    "        return loves[random.randint(0, len(loves)-1)]"
   ]
  },
  {
   "cell_type": "code",
   "execution_count": 2,
   "metadata": {},
   "outputs": [],
   "source": [
    "p = People(\"codelieche\", 28)"
   ]
  },
  {
   "cell_type": "code",
   "execution_count": 3,
   "metadata": {},
   "outputs": [
    {
     "name": "stdout",
     "output_type": "stream",
     "text": [
      "codelieche 28 Movie\n"
     ]
    }
   ],
   "source": [
    "print(p.name, p.age, p.love())"
   ]
  },
  {
   "cell_type": "code",
   "execution_count": 4,
   "metadata": {},
   "outputs": [
    {
     "name": "stdout",
     "output_type": "stream",
     "text": [
      "codelieche 28 Music\n"
     ]
    }
   ],
   "source": [
    "print(p.name, p.age, p.love())"
   ]
  },
  {
   "cell_type": "markdown",
   "metadata": {},
   "source": [
    "> **如果我想把p.Love()用p.love来获取值该怎么做呢，这个时候就可以用`property`了**"
   ]
  },
  {
   "cell_type": "code",
   "execution_count": 5,
   "metadata": {},
   "outputs": [],
   "source": [
    "class People2:\n",
    "    \n",
    "    def __init__(self, name ,age):\n",
    "        self.name = name \n",
    "        self.age = age\n",
    "    \n",
    "    @property\n",
    "    def love(self):\n",
    "        loves = [\"Python\", \"Golang\", \"Java\", \"React.js\", \"Linux\", \"MacOS\", \"C\", \"C++\", \"Music\", \"Movie\"]\n",
    "        \n",
    "        return loves[random.randint(0, len(loves)-1)]"
   ]
  },
  {
   "cell_type": "code",
   "execution_count": 6,
   "metadata": {},
   "outputs": [],
   "source": [
    "# 实例化\n",
    "p2 = People2(\"codelieche\", 26)"
   ]
  },
  {
   "cell_type": "code",
   "execution_count": 7,
   "metadata": {},
   "outputs": [
    {
     "name": "stdout",
     "output_type": "stream",
     "text": [
      "codelieche 26 Golang\n"
     ]
    }
   ],
   "source": [
    "print(p2.name, p2.age, p2.love)"
   ]
  },
  {
   "cell_type": "code",
   "execution_count": 8,
   "metadata": {},
   "outputs": [
    {
     "ename": "TypeError",
     "evalue": "'str' object is not callable",
     "output_type": "error",
     "traceback": [
      "\u001b[0;31m---------------------------------------------------------------------------\u001b[0m",
      "\u001b[0;31mTypeError\u001b[0m                                 Traceback (most recent call last)",
      "\u001b[0;32m<ipython-input-8-ac83a829f887>\u001b[0m in \u001b[0;36m<module>\u001b[0;34m()\u001b[0m\n\u001b[0;32m----> 1\u001b[0;31m \u001b[0mprint\u001b[0m\u001b[0;34m(\u001b[0m\u001b[0mp2\u001b[0m\u001b[0;34m.\u001b[0m\u001b[0mname\u001b[0m\u001b[0;34m,\u001b[0m \u001b[0mp2\u001b[0m\u001b[0;34m.\u001b[0m\u001b[0mage\u001b[0m\u001b[0;34m,\u001b[0m \u001b[0mp2\u001b[0m\u001b[0;34m.\u001b[0m\u001b[0mlove\u001b[0m\u001b[0;34m(\u001b[0m\u001b[0;34m)\u001b[0m\u001b[0;34m)\u001b[0m\u001b[0;34m\u001b[0m\u001b[0;34m\u001b[0m\u001b[0m\n\u001b[0m",
      "\u001b[0;31mTypeError\u001b[0m: 'str' object is not callable"
     ]
    }
   ],
   "source": [
    "print(p2.name, p2.age, p2.love())"
   ]
  },
  {
   "cell_type": "markdown",
   "metadata": {},
   "source": [
    "> **到这里发现`p.love`已经是个属性了，返回的值如果不能被调用，那么就会报错。**"
   ]
  },
  {
   "cell_type": "code",
   "execution_count": null,
   "metadata": {},
   "outputs": [],
   "source": []
  }
 ],
 "metadata": {
  "kernelspec": {
   "display_name": "Python 3",
   "language": "python",
   "name": "python3"
  },
  "language_info": {
   "codemirror_mode": {
    "name": "ipython",
    "version": 3
   },
   "file_extension": ".py",
   "mimetype": "text/x-python",
   "name": "python",
   "nbconvert_exporter": "python",
   "pygments_lexer": "ipython3",
   "version": "3.7.6"
  }
 },
 "nbformat": 4,
 "nbformat_minor": 2
}
