{
 "cells": [
  {
   "cell_type": "markdown",
   "metadata": {},
   "source": [
    "## 抽象基类\n",
    "> `abstract base class`简称**ABC**，是对`duck-typing`的补充，它提供一种定义接口的形式。\n",
    "\n",
    "类的继承，假如我们有个类`People`和`Student(People)`。  \n",
    "那么通过`isinstance()`或者`issubclass()`可以判断某个类是否是另外某个类的子类。\n",
    "\n",
    "**虚拟子类：**  \n",
    "> ABC(抽象基类)引入了虚拟子类，某个类并非继承某个类，如果其实现了虚拟类的方法，就能被`isinstance()`或者`issubclass()`所认可。\n",
    "\n",
    "Python中的`collections.abc`定义了容器相关的所有抽象基类。\n",
    "> 学习Python容器相关源码的时候可以重点查看这个部分  \n",
    "比如：`from collections.abc import Sequence`  \n",
    "CMD+鼠标左键点击`Sequence`进入查看源码。"
   ]
  },
  {
   "cell_type": "markdown",
   "metadata": {},
   "source": [
    "### 1. isinstance和issubclass\n",
    "- `isinstance(obj, C)`:是判断对象`obj`是否是`C`类的实例\n",
    "- `issubclass(C1, (C2, C3))`: 是判断类`C1`是否是`(C2, C3)`的子类"
   ]
  },
  {
   "cell_type": "code",
   "execution_count": 1,
   "metadata": {},
   "outputs": [],
   "source": [
    "a = 100\n",
    "print(isinstance(a, int))\n",
    "print(isinstance(a, float))"
   ]
  },
  {
   "cell_type": "code",
   "execution_count": 2,
   "metadata": {},
   "outputs": [],
   "source": [
    "# 创建3个类：C1，C2，C3\n",
    "class C2:\n",
    "    \n",
    "    def my_fun(self):\n",
    "        pass\n",
    "\n",
    "class C3:\n",
    "    pass\n",
    "\n",
    "class C1(C2):\n",
    "    pass"
   ]
  },
  {
   "cell_type": "code",
   "execution_count": 3,
   "metadata": {},
   "outputs": [
    {
     "data": {
      "text/plain": [
       "True"
      ]
     },
     "execution_count": 3,
     "metadata": {},
     "output_type": "execute_result"
    }
   ],
   "source": [
    "# C1是C2的子类\n",
    "issubclass(C1, C2)"
   ]
  },
  {
   "cell_type": "code",
   "execution_count": 4,
   "metadata": {},
   "outputs": [
    {
     "data": {
      "text/plain": [
       "False"
      ]
     },
     "execution_count": 4,
     "metadata": {},
     "output_type": "execute_result"
    }
   ],
   "source": [
    "# C1不是C3的子类\n",
    "issubclass(C1, C3)"
   ]
  },
  {
   "cell_type": "code",
   "execution_count": 5,
   "metadata": {},
   "outputs": [
    {
     "data": {
      "text/plain": [
       "True"
      ]
     },
     "execution_count": 5,
     "metadata": {},
     "output_type": "execute_result"
    }
   ],
   "source": [
    "# C1是C2或者C3的子类\n",
    "issubclass(C1, (C2, C3))"
   ]
  },
  {
   "cell_type": "code",
   "execution_count": 6,
   "metadata": {},
   "outputs": [
    {
     "data": {
      "text/plain": [
       "True"
      ]
     },
     "execution_count": 6,
     "metadata": {},
     "output_type": "execute_result"
    }
   ],
   "source": [
    "# C1是object的子类\n",
    "issubclass(C1, object)"
   ]
  },
  {
   "cell_type": "code",
   "execution_count": 7,
   "metadata": {},
   "outputs": [
    {
     "data": {
      "text/plain": [
       "True"
      ]
     },
     "execution_count": 7,
     "metadata": {},
     "output_type": "execute_result"
    }
   ],
   "source": [
    "# C1也是object的实例\n",
    "isinstance(C1, object)"
   ]
  },
  {
   "cell_type": "markdown",
   "metadata": {},
   "source": [
    "**通过继承关系，我们可以让某个类是另外一个类的子类**"
   ]
  },
  {
   "cell_type": "markdown",
   "metadata": {},
   "source": [
    "### 2. 虚拟子类\n",
    "**在前面的代码中，通过`class C1(C2)`**：C1继承了C2所有C1是C2的子类，这点很好理解**   \n",
    "> 在这里我们想要使用虚拟子类，只要实现了C2类中的方法，就可判定其为C2的子类。"
   ]
  },
  {
   "cell_type": "markdown",
   "metadata": {},
   "source": [
    "#### 2-1: 定义抽象类"
   ]
  },
  {
   "cell_type": "code",
   "execution_count": 8,
   "metadata": {},
   "outputs": [],
   "source": [
    "# 引入包\n",
    "from abc import ABCMeta, abstractmethod"
   ]
  },
  {
   "cell_type": "code",
   "execution_count": 9,
   "metadata": {},
   "outputs": [],
   "source": [
    "# 创建抽象类\n",
    "class C22(metaclass=ABCMeta):\n",
    "    \n",
    "    @abstractmethod\n",
    "    def my_func(self):\n",
    "        pass\n",
    "    \n",
    "    @classmethod\n",
    "    def __subclasshook__(cls, subclass):\n",
    "        \n",
    "        if cls is C22:\n",
    "            # 检查此类是否有`my_func`\n",
    "            if any(\"my_func\" in C.__dict__ for C in cls.__mro__):\n",
    "                return True\n",
    "        else:\n",
    "            return None\n"
   ]
  },
  {
   "cell_type": "markdown",
   "metadata": {},
   "source": [
    "#### 2-2: 实现隐式的类"
   ]
  },
  {
   "cell_type": "code",
   "execution_count": 10,
   "metadata": {},
   "outputs": [],
   "source": [
    "# 创建类C11，让其实现my_func这个方法\n",
    "class C11:\n",
    "    \n",
    "    def my_func(self):\n",
    "        print(\"我是C11，正在执行my_func方法\")"
   ]
  },
  {
   "cell_type": "markdown",
   "metadata": {},
   "source": [
    "#### 2-3: 判定"
   ]
  },
  {
   "cell_type": "code",
   "execution_count": 11,
   "metadata": {},
   "outputs": [
    {
     "data": {
      "text/plain": [
       "True"
      ]
     },
     "execution_count": 11,
     "metadata": {},
     "output_type": "execute_result"
    }
   ],
   "source": [
    "issubclass(C11, C22)"
   ]
  },
  {
   "cell_type": "code",
   "execution_count": 12,
   "metadata": {},
   "outputs": [
    {
     "data": {
      "text/plain": [
       "False"
      ]
     },
     "execution_count": 12,
     "metadata": {},
     "output_type": "execute_result"
    }
   ],
   "source": [
    "issubclass(C11, C2)"
   ]
  },
  {
   "cell_type": "code",
   "execution_count": 13,
   "metadata": {},
   "outputs": [
    {
     "data": {
      "text/plain": [
       "True"
      ]
     },
     "execution_count": 13,
     "metadata": {},
     "output_type": "execute_result"
    }
   ],
   "source": [
    "isinstance(C11, C22)"
   ]
  },
  {
   "cell_type": "code",
   "execution_count": 14,
   "metadata": {},
   "outputs": [
    {
     "data": {
      "text/plain": [
       "False"
      ]
     },
     "execution_count": 14,
     "metadata": {},
     "output_type": "execute_result"
    }
   ],
   "source": [
    "isinstance(C11, C2)"
   ]
  },
  {
   "cell_type": "markdown",
   "metadata": {},
   "source": [
    "> **到这里我们可以发现，C11即使并未继承C22这个类，但是其由于实现了`my_func`这个函数，从而隐式的继承了**.  \n",
    "或者说C11是C22的虚拟子类。"
   ]
  },
  {
   "cell_type": "markdown",
   "metadata": {},
   "source": [
    "### 3. 抽象类\n",
    "> 我们定义一个`C222`的抽象类，然后让`C111显示的基础C222`"
   ]
  },
  {
   "cell_type": "markdown",
   "metadata": {},
   "source": [
    "#### 3-1： 创建抽象类"
   ]
  },
  {
   "cell_type": "code",
   "execution_count": 15,
   "metadata": {},
   "outputs": [],
   "source": [
    "# 创建类C222\n",
    "from abc import ABCMeta, abstractmethod\n",
    "\n",
    "\n",
    "class C222(metaclass=ABCMeta):\n",
    "    \n",
    "    @abstractmethod\n",
    "    def abc_func(self):\n",
    "        pass"
   ]
  },
  {
   "cell_type": "markdown",
   "metadata": {},
   "source": [
    "#### 3-2: 实现抽象类的子类"
   ]
  },
  {
   "cell_type": "code",
   "execution_count": 16,
   "metadata": {},
   "outputs": [],
   "source": [
    "# 创建类C111\n",
    "class C111(C222):\n",
    "    \n",
    "    def abc_func(self):\n",
    "        print(\"我是c111, 正在运行C222\")"
   ]
  },
  {
   "cell_type": "markdown",
   "metadata": {},
   "source": [
    "#### 3-3: 检查"
   ]
  },
  {
   "cell_type": "code",
   "execution_count": 17,
   "metadata": {},
   "outputs": [
    {
     "data": {
      "text/plain": [
       "True"
      ]
     },
     "execution_count": 17,
     "metadata": {},
     "output_type": "execute_result"
    }
   ],
   "source": [
    "# 判断C111是否是C222的子类\n",
    "issubclass(C111, C222)"
   ]
  },
  {
   "cell_type": "code",
   "execution_count": 18,
   "metadata": {},
   "outputs": [
    {
     "name": "stdout",
     "output_type": "stream",
     "text": [
      "我是c111, 正在运行C222\n"
     ]
    }
   ],
   "source": [
    "# 实例化对象\n",
    "obj = C111()\n",
    "obj.abc_func()"
   ]
  },
  {
   "cell_type": "code",
   "execution_count": 19,
   "metadata": {},
   "outputs": [
    {
     "data": {
      "text/plain": [
       "True"
      ]
     },
     "execution_count": 19,
     "metadata": {},
     "output_type": "execute_result"
    }
   ],
   "source": [
    "isinstance(obj, C222)"
   ]
  },
  {
   "cell_type": "code",
   "execution_count": 20,
   "metadata": {},
   "outputs": [
    {
     "data": {
      "text/plain": [
       "True"
      ]
     },
     "execution_count": 20,
     "metadata": {},
     "output_type": "execute_result"
    }
   ],
   "source": [
    "isinstance(obj, C111)"
   ]
  },
  {
   "cell_type": "code",
   "execution_count": null,
   "metadata": {},
   "outputs": [],
   "source": []
  }
 ],
 "metadata": {
  "kernelspec": {
   "display_name": "Python 3",
   "language": "python",
   "name": "python3"
  },
  "language_info": {
   "codemirror_mode": {
    "name": "ipython",
    "version": 3
   },
   "file_extension": ".py",
   "mimetype": "text/x-python",
   "name": "python",
   "nbconvert_exporter": "python",
   "pygments_lexer": "ipython3",
   "version": "3.7.6"
  }
 },
 "nbformat": 4,
 "nbformat_minor": 2
}
