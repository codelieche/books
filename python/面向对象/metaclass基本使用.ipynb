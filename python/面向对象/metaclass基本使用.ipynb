{
 "cells": [
  {
   "cell_type": "markdown",
   "metadata": {},
   "source": [
    "## metaclass的基本使用\n",
    "> 什么是metaclass：  \n",
    "- 继承了type的类就是Metaclass\n",
    "- metaclass是用来创建类的类, 在实例化类的时候就会执行相关代码\n",
    "\n",
    "**MetaClass可以应用于，根据参数动态的创建创建类的场景**，可参考后面的示例。"
   ]
  },
  {
   "cell_type": "markdown",
   "metadata": {},
   "source": [
    "### 1. 用type创建一个类\n",
    "> 为了方便理解metaclass，我们先尝试用type来创建个类"
   ]
  },
  {
   "cell_type": "markdown",
   "metadata": {},
   "source": [
    "#### 1-1: 先用class创建类\n",
    "> `type(name, bases, **kwargs)`：  \n",
    "- `name`: 是类的名字\n",
    "- `bases`: 是继承的基类\n",
    "- `kwargs`: 字典类型的一些其它属性\n",
    "\n",
    "**type相关的文档**，重点查看`__init__`方法：\n",
    "```python\n",
    "class type(object):\n",
    "    \"\"\"\n",
    "    type(object_or_name, bases, dict)\n",
    "    type(object) -> the object's type\n",
    "    type(name, bases, dict) -> a new type\n",
    "    \"\"\"\n",
    "    def mro(self, *args, **kwargs): # real signature unknown\n",
    "        \"\"\" Return a type's method resolution order. \"\"\"\n",
    "        pass\n",
    "\n",
    "    def __call__(self, *args, **kwargs): # real signature unknown\n",
    "        \"\"\" Call self as a function. \"\"\"\n",
    "        pass\n",
    "\n",
    "    def __delattr__(self, *args, **kwargs): # real signature unknown\n",
    "        \"\"\" Implement delattr(self, name). \"\"\"\n",
    "        pass\n",
    "\n",
    "    def __dir__(self, *args, **kwargs): # real signature unknown\n",
    "        \"\"\" Specialized __dir__ implementation for types. \"\"\"\n",
    "        pass\n",
    "\n",
    "    def __getattribute__(self, *args, **kwargs): # real signature unknown\n",
    "        \"\"\" Return getattr(self, name). \"\"\"\n",
    "        pass\n",
    "\n",
    "    def __init__(cls, what, bases=None, dict=None): # known special case of type.__init__\n",
    "        \"\"\"\n",
    "        type(object_or_name, bases, dict)\n",
    "        type(object) -> the object's type\n",
    "        type(name, bases, dict) -> a new type\n",
    "        # (copied from class doc)\n",
    "        \"\"\"\n",
    "        pass\n",
    "  ```"
   ]
  },
  {
   "cell_type": "code",
   "execution_count": 1,
   "metadata": {},
   "outputs": [],
   "source": [
    "class People:\n",
    "    \n",
    "    def __init__(self, name, age):\n",
    "        self.name = name\n",
    "        self.age = age"
   ]
  },
  {
   "cell_type": "code",
   "execution_count": 2,
   "metadata": {},
   "outputs": [
    {
     "name": "stdout",
     "output_type": "stream",
     "text": [
      "codelieche 20\n"
     ]
    }
   ],
   "source": [
    "p = People(\"codelieche\", 20)\n",
    "print(p.name, p.age)"
   ]
  },
  {
   "cell_type": "code",
   "execution_count": 3,
   "metadata": {},
   "outputs": [
    {
     "data": {
      "text/plain": [
       "type"
      ]
     },
     "execution_count": 3,
     "metadata": {},
     "output_type": "execute_result"
    }
   ],
   "source": [
    "type(People)"
   ]
  },
  {
   "cell_type": "markdown",
   "metadata": {},
   "source": [
    "#### 1-2: 我们使用type创建一个类"
   ]
  },
  {
   "cell_type": "code",
   "execution_count": 4,
   "metadata": {},
   "outputs": [],
   "source": [
    "User = type(\"User\", (), {\"name\": \"codelieche\", \"age\": 21})"
   ]
  },
  {
   "cell_type": "code",
   "execution_count": 5,
   "metadata": {},
   "outputs": [
    {
     "data": {
      "text/plain": [
       "__main__.User"
      ]
     },
     "execution_count": 5,
     "metadata": {},
     "output_type": "execute_result"
    }
   ],
   "source": [
    "User"
   ]
  },
  {
   "cell_type": "code",
   "execution_count": 6,
   "metadata": {},
   "outputs": [
    {
     "data": {
      "text/plain": [
       "type"
      ]
     },
     "execution_count": 6,
     "metadata": {},
     "output_type": "execute_result"
    }
   ],
   "source": [
    "type(User)"
   ]
  },
  {
   "cell_type": "code",
   "execution_count": 7,
   "metadata": {},
   "outputs": [],
   "source": [
    "# 实例化User\n",
    "u = User()"
   ]
  },
  {
   "cell_type": "code",
   "execution_count": 8,
   "metadata": {},
   "outputs": [
    {
     "name": "stdout",
     "output_type": "stream",
     "text": [
      "codelieche 21\n"
     ]
    }
   ],
   "source": [
    "print(u.name, u.age)"
   ]
  },
  {
   "cell_type": "markdown",
   "metadata": {},
   "source": [
    "#### 1-3: 用type继承类"
   ]
  },
  {
   "cell_type": "code",
   "execution_count": 9,
   "metadata": {},
   "outputs": [],
   "source": [
    "class Base:\n",
    "    \n",
    "    def say(self):\n",
    "        print(\"I Can Say\")"
   ]
  },
  {
   "cell_type": "code",
   "execution_count": 10,
   "metadata": {},
   "outputs": [],
   "source": [
    "info = {\"name\": \"codelieche\", \"age\": 28}\n",
    "User2 = type(\"User2\", (Base,), info)"
   ]
  },
  {
   "cell_type": "code",
   "execution_count": 11,
   "metadata": {},
   "outputs": [
    {
     "data": {
      "text/plain": [
       "__main__.User2"
      ]
     },
     "execution_count": 11,
     "metadata": {},
     "output_type": "execute_result"
    }
   ],
   "source": [
    "User2"
   ]
  },
  {
   "cell_type": "code",
   "execution_count": 12,
   "metadata": {},
   "outputs": [],
   "source": [
    "# 实例化对象\n",
    "u2 = User2()"
   ]
  },
  {
   "cell_type": "code",
   "execution_count": 13,
   "metadata": {},
   "outputs": [
    {
     "name": "stdout",
     "output_type": "stream",
     "text": [
      "I Can Say\n"
     ]
    }
   ],
   "source": [
    "u2.say()"
   ]
  },
  {
   "cell_type": "code",
   "execution_count": 14,
   "metadata": {},
   "outputs": [
    {
     "name": "stdout",
     "output_type": "stream",
     "text": [
      "codelieche 28\n"
     ]
    }
   ],
   "source": [
    "print(u2.name, u2.age)"
   ]
  },
  {
   "cell_type": "code",
   "execution_count": 15,
   "metadata": {},
   "outputs": [
    {
     "name": "stdout",
     "output_type": "stream",
     "text": [
      "<class 'type'> (<class 'type'>, <class 'object'>)\n"
     ]
    }
   ],
   "source": [
    "print(type(type), type.__mro__)"
   ]
  },
  {
   "cell_type": "markdown",
   "metadata": {},
   "source": [
    "> **发现：**`type`是`type`自身的实例，`type`又继承了`object`."
   ]
  },
  {
   "cell_type": "markdown",
   "metadata": {},
   "source": [
    "### 2. 元类示例"
   ]
  },
  {
   "cell_type": "markdown",
   "metadata": {},
   "source": [
    "#### 2-1. 查看ABCMeta源码\n",
    "> 查看源码，从源码中学习是一种比较好的方式。我们现在看下ABCMeta这个`metaclass`"
   ]
  },
  {
   "cell_type": "code",
   "execution_count": 16,
   "metadata": {},
   "outputs": [],
   "source": [
    "# 引入类\n",
    "from abc import ABCMeta"
   ]
  },
  {
   "cell_type": "code",
   "execution_count": 17,
   "metadata": {},
   "outputs": [],
   "source": [
    "# ABCMeta??"
   ]
  },
  {
   "cell_type": "markdown",
   "metadata": {},
   "source": [
    "```python\n",
    "class ABCMeta(type):\n",
    "        \n",
    "        def __new__(mcls, name, bases, namespace, **kwargs):\n",
    "            cls = super().__new__(mcls, name, bases, namespace, **kwargs)\n",
    "            _abc_init(cls)\n",
    "            return cls\n",
    " ```"
   ]
  },
  {
   "cell_type": "markdown",
   "metadata": {},
   "source": [
    "#### 2-2. 编写个多级继承"
   ]
  },
  {
   "cell_type": "code",
   "execution_count": 18,
   "metadata": {},
   "outputs": [],
   "source": [
    "# 编写个demo\n",
    "class A:\n",
    "    \n",
    "    def __new__(cls, *args, **kwargs):\n",
    "        print(\"A: __new__\", cls, args, kwargs)\n",
    "        return super().__new__(cls)\n",
    "    \n",
    "    \n",
    "class B(A):\n",
    "    \n",
    "    def __new__(cls, *args, **kwargs):\n",
    "        print(\"B: __new__\", cls, args, kwargs)\n",
    "        return super().__new__(cls, *args, **kwargs)\n",
    "    \n",
    "class C(B):\n",
    "    \n",
    "    def __new__(cls, *args, **kwargs):\n",
    "        print(\"C: __new__\", cls, args, kwargs)\n",
    "        return super().__new__(cls, *args, **kwargs)\n",
    "    \n",
    "    def __init__(self, value=0):\n",
    "        self.value = value\n",
    "        "
   ]
  },
  {
   "cell_type": "code",
   "execution_count": 19,
   "metadata": {},
   "outputs": [
    {
     "name": "stdout",
     "output_type": "stream",
     "text": [
      "C: __new__ <class '__main__.C'> (123,) {}\n",
      "B: __new__ <class '__main__.C'> (123,) {}\n",
      "A: __new__ <class '__main__.C'> (123,) {}\n"
     ]
    }
   ],
   "source": [
    "# 实例化\n",
    "c1 = C(123)"
   ]
  },
  {
   "cell_type": "code",
   "execution_count": 20,
   "metadata": {},
   "outputs": [
    {
     "data": {
      "text/plain": [
       "123"
      ]
     },
     "execution_count": 20,
     "metadata": {},
     "output_type": "execute_result"
    }
   ],
   "source": [
    "c1.value"
   ]
  },
  {
   "cell_type": "markdown",
   "metadata": {},
   "source": [
    "#### 2-3. 设置metaclass"
   ]
  },
  {
   "cell_type": "code",
   "execution_count": 21,
   "metadata": {},
   "outputs": [],
   "source": [
    "# 创建一个元类\n",
    "class MyMetaClass(type):\n",
    "    \n",
    "    def __new__(mcls, name, bases, kwargs):\n",
    "        print(\"MyMetaClass: __new__:\")\n",
    "        print(\"\\t 1. 元类mcls:\", mcls)\n",
    "        print(\"\\t 2. 类名称name:\", name)\n",
    "        print(\"\\t 3. 继承的类bases:\", bases)\n",
    "        print(\"\\t 4. 其它属性kwargs:\", kwargs)\n",
    "        \n",
    "        # 参考type创建类需传递的参数\n",
    "        return super().__new__(mcls, name, bases, kwargs)\n",
    "    \n",
    "    def __init__(self, *args, **kwargs):\n",
    "        print(\"\\n执行MyMetaClass.__init__：\")\n",
    "        print(\"\\t args:\", args)\n",
    "        print(\"\\t kwargs:\", kwargs)\n",
    "        return super().__init__(*args, **kwargs)"
   ]
  },
  {
   "cell_type": "code",
   "execution_count": 22,
   "metadata": {},
   "outputs": [
    {
     "name": "stdout",
     "output_type": "stream",
     "text": [
      "MyMetaClass: __new__:\n",
      "\t 1. 元类mcls: <class '__main__.MyMetaClass'>\n",
      "\t 2. 类名称name: C2\n",
      "\t 3. 继承的类bases: (<class '__main__.B'>,)\n",
      "\t 4. 其它属性kwargs: {'__module__': '__main__', '__qualname__': 'C2', 'name': 'Just for test', '__new__': <function C2.__new__ at 0x1096f8d40>, '__init__': <function C2.__init__ at 0x1096f8c20>, '__classcell__': <cell at 0x1096feb10: empty>}\n",
      "\n",
      "执行MyMetaClass.__init__：\n",
      "\t args: ('C2', (<class '__main__.B'>,), {'__module__': '__main__', '__qualname__': 'C2', 'name': 'Just for test', '__new__': <function C2.__new__ at 0x1096f8d40>, '__init__': <function C2.__init__ at 0x1096f8c20>, '__classcell__': <cell at 0x1096feb10: MyMetaClass object at 0x7fc1f6555d10>})\n",
      "\t kwargs: {}\n"
     ]
    }
   ],
   "source": [
    "# 创建类C2，继承B，并且设置metaclass\n",
    "class C2(B, metaclass=MyMetaClass):\n",
    "    \n",
    "    name = \"Just for test\"\n",
    "    \n",
    "    def __new__(cls, *args, **kwargs):\n",
    "        print(\"C: __new__\", cls, *args, kwargs)\n",
    "        return super().__new__(cls)\n",
    "    \n",
    "    def __init__(self, value):\n",
    "        self.value = value"
   ]
  },
  {
   "cell_type": "markdown",
   "metadata": {},
   "source": [
    "> 在实例化C2类对象的时候，`MyMetaClass`中的`__new__`方法就被执行了。"
   ]
  },
  {
   "cell_type": "code",
   "execution_count": 23,
   "metadata": {},
   "outputs": [
    {
     "name": "stdout",
     "output_type": "stream",
     "text": [
      "C: __new__ <class '__main__.C2'> abc {}\n",
      "B: __new__ <class '__main__.C2'> () {}\n",
      "A: __new__ <class '__main__.C2'> () {}\n"
     ]
    }
   ],
   "source": [
    "c2 = C2(\"abc\")"
   ]
  },
  {
   "cell_type": "markdown",
   "metadata": {},
   "source": [
    "> 实例化对象的时候，所有非元类的`__new__`会执行，按照MRO顺序。"
   ]
  },
  {
   "cell_type": "markdown",
   "metadata": {},
   "source": [
    "### 3. 动态创建类\n",
    "> 我们创建一个类，如果设置了swim = True，那么其有swim()方法，如果设置了say = True，那么其有say()方法。"
   ]
  },
  {
   "cell_type": "markdown",
   "metadata": {},
   "source": [
    "#### 3-1: 通过函数动态生成"
   ]
  },
  {
   "cell_type": "code",
   "execution_count": 24,
   "metadata": {},
   "outputs": [],
   "source": [
    "def generate_cls(name, swim=False, say=False):\n",
    "    \n",
    "    def swim_func(self):\n",
    "        print(\"我能游泳\")\n",
    "        \n",
    "    def say_func(self):\n",
    "        print(\"我能说话\")\n",
    "        \n",
    "    kwargs = {}\n",
    "    if swim:\n",
    "        kwargs[\"swim\"] = swim_func\n",
    "        \n",
    "    if say:\n",
    "        kwargs[\"say\"] = say_func\n",
    "        \n",
    "    # 生成类\n",
    "    return type(name, (), kwargs)"
   ]
  },
  {
   "cell_type": "code",
   "execution_count": 25,
   "metadata": {},
   "outputs": [],
   "source": [
    "# 创建一个能swim的类\n",
    "Demo1 = generate_cls(\"Demo1\", swim=True, say=False)"
   ]
  },
  {
   "cell_type": "code",
   "execution_count": 26,
   "metadata": {},
   "outputs": [
    {
     "data": {
      "text/plain": [
       "__main__.Demo1"
      ]
     },
     "execution_count": 26,
     "metadata": {},
     "output_type": "execute_result"
    }
   ],
   "source": [
    "Demo1"
   ]
  },
  {
   "cell_type": "code",
   "execution_count": 27,
   "metadata": {},
   "outputs": [],
   "source": [
    "# 实例化\n",
    "d1 = Demo1()"
   ]
  },
  {
   "cell_type": "code",
   "execution_count": 28,
   "metadata": {},
   "outputs": [
    {
     "name": "stdout",
     "output_type": "stream",
     "text": [
      "我能游泳\n"
     ]
    }
   ],
   "source": [
    "d1.swim()"
   ]
  },
  {
   "cell_type": "code",
   "execution_count": 29,
   "metadata": {},
   "outputs": [
    {
     "data": {
      "text/plain": [
       "False"
      ]
     },
     "execution_count": 29,
     "metadata": {},
     "output_type": "execute_result"
    }
   ],
   "source": [
    "hasattr(d1, \"say\")"
   ]
  },
  {
   "cell_type": "code",
   "execution_count": 30,
   "metadata": {},
   "outputs": [],
   "source": [
    "# 创建一个能游泳和说话的类\n",
    "Demo2 = generate_cls(\"Demo2\", swim=True, say=True)"
   ]
  },
  {
   "cell_type": "code",
   "execution_count": 31,
   "metadata": {},
   "outputs": [
    {
     "data": {
      "text/plain": [
       "__main__.Demo2"
      ]
     },
     "execution_count": 31,
     "metadata": {},
     "output_type": "execute_result"
    }
   ],
   "source": [
    "Demo2"
   ]
  },
  {
   "cell_type": "code",
   "execution_count": 32,
   "metadata": {},
   "outputs": [],
   "source": [
    "# 实例化\n",
    "d2 = Demo2()"
   ]
  },
  {
   "cell_type": "code",
   "execution_count": 33,
   "metadata": {},
   "outputs": [
    {
     "name": "stdout",
     "output_type": "stream",
     "text": [
      "我能说话\n"
     ]
    }
   ],
   "source": [
    "d2.say()"
   ]
  },
  {
   "cell_type": "code",
   "execution_count": 34,
   "metadata": {},
   "outputs": [
    {
     "name": "stdout",
     "output_type": "stream",
     "text": [
      "我能游泳\n"
     ]
    }
   ],
   "source": [
    "d2.swim()"
   ]
  },
  {
   "cell_type": "markdown",
   "metadata": {},
   "source": [
    "> **通过函数，我们就可以动态生成类了**，但是还是不够方便，这个时候就可以考虑用元类了。"
   ]
  },
  {
   "cell_type": "markdown",
   "metadata": {},
   "source": [
    "#### 3-2: 通过元类动态创建类"
   ]
  },
  {
   "cell_type": "markdown",
   "metadata": {},
   "source": [
    "- 创建元类"
   ]
  },
  {
   "cell_type": "code",
   "execution_count": 35,
   "metadata": {},
   "outputs": [],
   "source": [
    "def swim_func(self):\n",
    "        print(\"我能游泳\")\n",
    "        \n",
    "def say_func(self):\n",
    "    print(\"我能说话\")\n",
    "\n",
    "class DemoMetaClass(type):\n",
    "    \n",
    "    def __new__(mcls, name, bases, kwargs):\n",
    "        \n",
    "        if kwargs.get(\"swim\"):\n",
    "            kwargs[\"swim\"] = swim_func\n",
    "            \n",
    "        if kwargs.get(\"say\"):\n",
    "            kwargs[\"say\"] = say_func\n",
    "        \n",
    "        return super().__new__(mcls, name, bases, kwargs)\n",
    "    "
   ]
  },
  {
   "cell_type": "markdown",
   "metadata": {},
   "source": [
    "- 使用元类\n",
    "> 创建个People的类，即会游泳，也会说话；创建个Duck的类，它只会游泳。"
   ]
  },
  {
   "cell_type": "code",
   "execution_count": 36,
   "metadata": {},
   "outputs": [],
   "source": [
    "# 创建类People\n",
    "class People(metaclass=DemoMetaClass):\n",
    "    \n",
    "    swim = True\n",
    "    say = True\n",
    "    \n",
    "    def __init__(self, name, age):\n",
    "        self.name = name\n",
    "        self.age = age"
   ]
  },
  {
   "cell_type": "code",
   "execution_count": 37,
   "metadata": {},
   "outputs": [
    {
     "data": {
      "text/plain": [
       "<function __main__.swim_func(self)>"
      ]
     },
     "execution_count": 37,
     "metadata": {},
     "output_type": "execute_result"
    }
   ],
   "source": [
    "# 查看People的方法\n",
    "People.swim"
   ]
  },
  {
   "cell_type": "code",
   "execution_count": 38,
   "metadata": {},
   "outputs": [
    {
     "data": {
      "text/plain": [
       "<function __main__.say_func(self)>"
      ]
     },
     "execution_count": 38,
     "metadata": {},
     "output_type": "execute_result"
    }
   ],
   "source": [
    "People.say"
   ]
  },
  {
   "cell_type": "markdown",
   "metadata": {},
   "source": [
    "> **发现我们对类设置的是`swim = True`和`say = True`**，由于设置了元类，在实例化People类对象的时候，动态设置了方法。"
   ]
  },
  {
   "cell_type": "code",
   "execution_count": 39,
   "metadata": {},
   "outputs": [],
   "source": [
    "# 创建类Duck\n",
    "class Duck(metaclass=DemoMetaClass):\n",
    "    \n",
    "    swim = True\n",
    "    say = False\n",
    "    \n",
    "    def __init__(self, name):\n",
    "        self.name = name"
   ]
  },
  {
   "cell_type": "code",
   "execution_count": 40,
   "metadata": {},
   "outputs": [
    {
     "data": {
      "text/plain": [
       "<function __main__.swim_func(self)>"
      ]
     },
     "execution_count": 40,
     "metadata": {},
     "output_type": "execute_result"
    }
   ],
   "source": [
    "# 查看Duck的方法\n",
    "Duck.swim"
   ]
  },
  {
   "cell_type": "code",
   "execution_count": 41,
   "metadata": {},
   "outputs": [
    {
     "data": {
      "text/plain": [
       "False"
      ]
     },
     "execution_count": 41,
     "metadata": {},
     "output_type": "execute_result"
    }
   ],
   "source": [
    "Duck.say"
   ]
  },
  {
   "cell_type": "markdown",
   "metadata": {},
   "source": [
    "> **由于`say = False`，在实例化Duck类对象的时候，未给其赋值为方法。**  \n",
    "到这里我们发现使用`metaclass`就可以很方便的动态生成类了。"
   ]
  },
  {
   "cell_type": "code",
   "execution_count": null,
   "metadata": {},
   "outputs": [],
   "source": []
  }
 ],
 "metadata": {
  "kernelspec": {
   "display_name": "Python 3",
   "language": "python",
   "name": "python3"
  },
  "language_info": {
   "codemirror_mode": {
    "name": "ipython",
    "version": 3
   },
   "file_extension": ".py",
   "mimetype": "text/x-python",
   "name": "python",
   "nbconvert_exporter": "python",
   "pygments_lexer": "ipython3",
   "version": "3.7.6"
  }
 },
 "nbformat": 4,
 "nbformat_minor": 2
}
